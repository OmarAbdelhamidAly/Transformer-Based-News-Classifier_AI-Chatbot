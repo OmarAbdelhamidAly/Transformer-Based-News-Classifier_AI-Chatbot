{
 "cells": [
  {
   "cell_type": "markdown",
   "metadata": {
    "id": "f7bHKGiOc5fD"
   },
   "source": [
    "Download the News Category dataset from here: https://metatext.io/datasets/news-category-dataset then upload it to your google drive in a folder called \"datasets\""
   ]
  },
  {
   "cell_type": "code",
   "execution_count": 1,
   "metadata": {
    "id": "K95N7-KwdIEm"
   },
   "outputs": [],
   "source": [
    "file_path = 'News_Category_Dataset_v3.json'"
   ]
  },
  {
   "cell_type": "code",
   "execution_count": 2,
   "metadata": {},
   "outputs": [
    {
     "name": "stdout",
     "output_type": "stream",
     "text": [
      "Number of news articles in each category (sorted):\n",
      "POLITICS: 35602\n",
      "WELLNESS: 17945\n",
      "ENTERTAINMENT: 17362\n",
      "TRAVEL: 9900\n",
      "STYLE & BEAUTY: 9814\n",
      "PARENTING: 8791\n",
      "HEALTHY LIVING: 6694\n",
      "QUEER VOICES: 6347\n",
      "FOOD & DRINK: 6340\n",
      "BUSINESS: 5992\n",
      "COMEDY: 5400\n",
      "SPORTS: 5077\n",
      "BLACK VOICES: 4583\n",
      "HOME & LIVING: 4320\n",
      "PARENTS: 3955\n",
      "THE WORLDPOST: 3664\n",
      "WEDDINGS: 3653\n",
      "WOMEN: 3572\n",
      "CRIME: 3562\n",
      "IMPACT: 3484\n",
      "DIVORCE: 3426\n",
      "WORLD NEWS: 3299\n",
      "MEDIA: 2944\n",
      "WEIRD NEWS: 2777\n",
      "GREEN: 2622\n",
      "WORLDPOST: 2579\n",
      "RELIGION: 2577\n",
      "STYLE: 2254\n",
      "SCIENCE: 2206\n",
      "TECH: 2104\n",
      "TASTE: 2096\n",
      "MONEY: 1756\n",
      "ARTS: 1509\n",
      "ENVIRONMENT: 1444\n",
      "FIFTY: 1401\n",
      "GOOD NEWS: 1398\n",
      "U.S. NEWS: 1377\n",
      "ARTS & CULTURE: 1339\n",
      "COLLEGE: 1144\n",
      "LATINO VOICES: 1130\n",
      "CULTURE & ARTS: 1074\n",
      "EDUCATION: 1014\n",
      "[35602, 17945, 17362, 9900, 9814, 8791, 6694, 6347, 6340, 5992, 5400, 5077, 4583, 4320, 3955, 3664, 3653, 3572, 3562, 3484, 3426, 3299, 2944, 2777, 2622, 2579, 2577, 2254, 2206, 2104, 2096, 1756, 1509, 1444, 1401, 1398, 1377, 1339, 1144, 1130, 1074, 1014]\n"
     ]
    }
   ],
   "source": [
    "import json\n",
    "from collections import Counter\n",
    "\n",
    "def count_and_sort_news_by_category(file_path):\n",
    "    \"\"\"\n",
    "    Count and sort the number of news articles in each category.\n",
    "    \n",
    "    Args:\n",
    "        file_path (str): Path to the JSON file containing the news data.  \n",
    "    Returns:\n",
    "        list: A sorted list of tuples (category, count) in descending order.\n",
    "    \"\"\"\n",
    "    # Read the news items from the file\n",
    "    news = []\n",
    "    with open(file_path, 'r') as file:\n",
    "        for line in file:\n",
    "            json_object = json.loads(line)\n",
    "            news.append(json_object)\n",
    "    \n",
    "    # Extract categories\n",
    "    categories = [item['category'] for item in news if 'category' in item]\n",
    "    \n",
    "    # Count occurrences of each category\n",
    "    category_counts = Counter(categories)\n",
    "    \n",
    "    # Sort the categories by count in descending order\n",
    "    sorted_categories = sorted(category_counts.items(), key=lambda x: x[1], reverse=True)\n",
    "    \n",
    "    return sorted_categories\n",
    "\n",
    "# Path to your dataset file\n",
    "file_path = \"News_Category_Dataset_v3.json\"  # Replace with your actual file path\n",
    "\n",
    "# Count and sort the news articles by category\n",
    "sorted_category_counts = count_and_sort_news_by_category(file_path)\n",
    "w=[]\n",
    "# Print the results\n",
    "print(\"Number of news articles in each category (sorted):\")\n",
    "for category, count in sorted_category_counts:\n",
    "    w.append(count)\n",
    "    print(f\"{category}: {count}\")\n",
    "print(w)"
   ]
  },
  {
   "cell_type": "code",
   "execution_count": 3,
   "metadata": {
    "colab": {
     "base_uri": "https://localhost:8080/"
    },
    "id": "FDHoiPPCd3u-",
    "outputId": "446eef39-1121-44e5-e028-201bc7809f00"
   },
   "outputs": [
    {
     "name": "stdout",
     "output_type": "stream",
     "text": [
      "Number of news items processed: 22000\n",
      "Category counts after filtering:\n",
      "U.S. NEWS: 1000\n",
      "COMEDY: 1000\n",
      "PARENTING: 1000\n",
      "WORLD NEWS: 1000\n",
      "CULTURE & ARTS: 1000\n",
      "TECH: 1000\n",
      "SPORTS: 1000\n",
      "ENTERTAINMENT: 1000\n",
      "POLITICS: 1000\n",
      "WEIRD NEWS: 1000\n",
      "ENVIRONMENT: 1000\n",
      "EDUCATION: 1000\n",
      "CRIME: 1000\n",
      "SCIENCE: 1000\n",
      "WELLNESS: 1000\n",
      "BUSINESS: 1000\n",
      "STYLE & BEAUTY: 1000\n",
      "FOOD & DRINK: 1000\n",
      "MEDIA: 1000\n",
      "QUEER VOICES: 1000\n",
      "HOME & LIVING: 1000\n",
      "WOMEN: 1000\n",
      "Filtered news saved to filtered_news.json\n"
     ]
    }
   ],
   "source": [
    "import json\n",
    "from collections import defaultdict, Counter\n",
    "\n",
    "def process_file(file_path, limit=22000, min_samples_per_category=30, max_samples_per_category=1000):\n",
    "    \"\"\"\n",
    "    Processes the file to filter and balance news articles by category.\n",
    "    \n",
    "    Args:\n",
    "        file_path (str): Path to the JSON file containing the news data.\n",
    "        limit (int): Total number of samples to process.\n",
    "        min_samples_per_category (int): Minimum number of samples per category.\n",
    "        max_samples_per_category (int): Maximum number of samples per category.\n",
    "    \n",
    "    Returns:\n",
    "        list: List of valid news articles meeting the criteria.\n",
    "    \"\"\"\n",
    "    # Read the news items from the file\n",
    "    news = []\n",
    "    with open(file_path, 'r') as file:\n",
    "        for line in file:\n",
    "            json_object = json.loads(line)\n",
    "            news.append(json_object)\n",
    "    \n",
    "    # Group news by category\n",
    "    categorized_news = defaultdict(list)\n",
    "    for item in news:\n",
    "        category = item.get('category')\n",
    "        if category:\n",
    "            categorized_news[category].append(item)\n",
    "    \n",
    "    # Only include categories with at least `min_samples_per_category` articles and limit to `max_samples_per_category`\n",
    "    valid_news = []\n",
    "    for category, items in categorized_news.items():\n",
    "        if len(items) >= min_samples_per_category:\n",
    "            sampled_items = items[:max_samples_per_category]  # Limit to max samples per category\n",
    "            valid_news.extend(sampled_items)\n",
    "    \n",
    "    # Limit the total number of news articles to `limit`\n",
    "    if len(valid_news) > limit:\n",
    "        valid_news = valid_news[:limit]  # Slice to ensure the limit is not exceeded\n",
    "    \n",
    "    return valid_news\n",
    "\n",
    "# Path to your dataset file\n",
    "file_path = \"News_Category_Dataset_v3.json\"  # Replace with your actual file path\n",
    "output_file = \"filtered_news.json\"  # Output file to save the filtered news\n",
    "\n",
    "# Process the file with the new parameters\n",
    "news = process_file(file_path, limit=22000, min_samples_per_category=30, max_samples_per_category=1000)\n",
    "\n",
    "# Save the filtered news to a JSON file\n",
    "with open(output_file, 'w', encoding=\"utf-8\") as f:\n",
    "    json.dump(news, f, ensure_ascii=False, indent=4)\n",
    "\n",
    "# Display the results\n",
    "print(f\"Number of news items processed: {len(news)}\")\n",
    "category_counts = Counter([item['category'] for item in news])\n",
    "print(\"Category counts after filtering:\")\n",
    "for category, count in category_counts.items():\n",
    "    print(f\"{category}: {count}\")\n",
    "\n",
    "print(f\"Filtered news saved to {output_file}\")\n"
   ]
  },
  {
   "cell_type": "code",
   "execution_count": 4,
   "metadata": {
    "colab": {
     "base_uri": "https://localhost:8080/"
    },
    "id": "TT74ji6Wd-J6",
    "outputId": "1817ad83-71ee-4ad4-9f78-d91a69fad568"
   },
   "outputs": [
    {
     "data": {
      "text/plain": [
       "{'link': 'https://www.huffpost.com/entry/bill-maher-fox-news-migrant-caravan_n_5bd407a4e4b055bc948c103f',\n",
       " 'headline': 'Bill Maher Shreds Fox News’ Coverage Of The Migrant Caravan',\n",
       " 'category': 'COMEDY',\n",
       " 'short_description': '\"Can\\'t we be a little kinder?\"',\n",
       " 'authors': 'Lee Moran',\n",
       " 'date': '2018-10-27'}"
      ]
     },
     "execution_count": 4,
     "metadata": {},
     "output_type": "execute_result"
    }
   ],
   "source": [
    "news[1200]"
   ]
  },
  {
   "cell_type": "code",
   "execution_count": 5,
   "metadata": {
    "colab": {
     "base_uri": "https://localhost:8080/"
    },
    "id": "3R5A54jZfRF7",
    "outputId": "558bd12b-54b9-4036-cae1-24e719169562"
   },
   "outputs": [
    {
     "data": {
      "text/plain": [
       "[('Over 4 Million Americans Roll Up Sleeves For Omicron-Targeted COVID Boosters || Health experts said it is too early to predict whether demand would match up with the 171 million doses of the new boosters the U.S. ordered for the fall.',\n",
       "  'U.S. NEWS'),\n",
       " (\"American Airlines Flyer Charged, Banned For Life After Punching Flight Attendant On Video || He was subdued by passengers and crew when he fled to the back of the aircraft after the confrontation, according to the U.S. attorney's office in Los Angeles.\",\n",
       "  'U.S. NEWS'),\n",
       " ('Woman Who Called Cops On Black Bird-Watcher Loses Lawsuit Against Ex-Employer || Amy Cooper accused investment firm Franklin Templeton of unfairly firing her and branding her a racist after video of the Central Park encounter went viral.',\n",
       "  'U.S. NEWS'),\n",
       " ('Cleaner Was Dead In Belk Bathroom For 4 Days Before Body Found: Police || The 63-year-old woman was seen working at the South Carolina store on Thursday. She was found dead Monday after her family reported her missing, authorities said.',\n",
       "  'U.S. NEWS'),\n",
       " ('Reporter Gets Adorable Surprise From Her Boyfriend While Live On TV || \"Who\\'s that behind you?\" an anchor for New York’s PIX11 asked journalist Michelle Ross as she finished up an interview.',\n",
       "  'U.S. NEWS')]"
      ]
     },
     "execution_count": 5,
     "metadata": {},
     "output_type": "execute_result"
    }
   ],
   "source": [
    "text_cat_pairs = []\n",
    "\n",
    "for news_item in news:\n",
    "    headline = news_item.get(\"headline\")\n",
    "    short_description = news_item.get(\"short_description\")\n",
    "    text = headline + \" || \" + short_description\n",
    "    category = news_item.get(\"category\")\n",
    "    text_cat_pairs.append((text, category))\n",
    "\n",
    "text_cat_pairs[:5]"
   ]
  },
  {
   "cell_type": "code",
   "execution_count": 6,
   "metadata": {
    "id": "LbpNSOaFf1wg"
   },
   "outputs": [],
   "source": [
    "# iterate over text_cat_pairs, which is a list of tuples. Looks at the second element in the tuple. Generate a label_to_index dict and an index_to_label dict from those labels.\n",
    "\n",
    "label_to_index = {}\n",
    "index_to_label = {}\n",
    "i = 0\n",
    "\n",
    "for (_, label) in text_cat_pairs:\n",
    "    if label not in label_to_index:\n",
    "        label_to_index[label] = i\n",
    "        index_to_label[i] = label\n",
    "        i += 1"
   ]
  },
  {
   "cell_type": "code",
   "execution_count": 7,
   "metadata": {
    "colab": {
     "base_uri": "https://localhost:8080/"
    },
    "id": "Mg2BVW8hVeZC",
    "outputId": "88a0fa32-2470-4bb2-df85-4456fab38247"
   },
   "outputs": [
    {
     "data": {
      "text/plain": [
       "{'U.S. NEWS': 0,\n",
       " 'COMEDY': 1,\n",
       " 'PARENTING': 2,\n",
       " 'WORLD NEWS': 3,\n",
       " 'CULTURE & ARTS': 4,\n",
       " 'TECH': 5,\n",
       " 'SPORTS': 6,\n",
       " 'ENTERTAINMENT': 7,\n",
       " 'POLITICS': 8,\n",
       " 'WEIRD NEWS': 9,\n",
       " 'ENVIRONMENT': 10,\n",
       " 'EDUCATION': 11,\n",
       " 'CRIME': 12,\n",
       " 'SCIENCE': 13,\n",
       " 'WELLNESS': 14,\n",
       " 'BUSINESS': 15,\n",
       " 'STYLE & BEAUTY': 16,\n",
       " 'FOOD & DRINK': 17,\n",
       " 'MEDIA': 18,\n",
       " 'QUEER VOICES': 19,\n",
       " 'HOME & LIVING': 20,\n",
       " 'WOMEN': 21}"
      ]
     },
     "execution_count": 7,
     "metadata": {},
     "output_type": "execute_result"
    }
   ],
   "source": [
    "label_to_index"
   ]
  },
  {
   "cell_type": "code",
   "execution_count": 8,
   "metadata": {
    "colab": {
     "base_uri": "https://localhost:8080/"
    },
    "id": "oy7LvT2BVz8t",
    "outputId": "9ca75d44-8b3f-45b4-b933-941b5d447b8e"
   },
   "outputs": [
    {
     "data": {
      "text/plain": [
       "{0: 'U.S. NEWS',\n",
       " 1: 'COMEDY',\n",
       " 2: 'PARENTING',\n",
       " 3: 'WORLD NEWS',\n",
       " 4: 'CULTURE & ARTS',\n",
       " 5: 'TECH',\n",
       " 6: 'SPORTS',\n",
       " 7: 'ENTERTAINMENT',\n",
       " 8: 'POLITICS',\n",
       " 9: 'WEIRD NEWS',\n",
       " 10: 'ENVIRONMENT',\n",
       " 11: 'EDUCATION',\n",
       " 12: 'CRIME',\n",
       " 13: 'SCIENCE',\n",
       " 14: 'WELLNESS',\n",
       " 15: 'BUSINESS',\n",
       " 16: 'STYLE & BEAUTY',\n",
       " 17: 'FOOD & DRINK',\n",
       " 18: 'MEDIA',\n",
       " 19: 'QUEER VOICES',\n",
       " 20: 'HOME & LIVING',\n",
       " 21: 'WOMEN'}"
      ]
     },
     "execution_count": 8,
     "metadata": {},
     "output_type": "execute_result"
    }
   ],
   "source": [
    "index_to_label"
   ]
  },
  {
   "cell_type": "code",
   "execution_count": 9,
   "metadata": {
    "colab": {
     "base_uri": "https://localhost:8080/"
    },
    "id": "BMetlxxkVghN",
    "outputId": "a916a820-455d-4f8c-f03a-6ff6476da568"
   },
   "outputs": [
    {
     "name": "stdout",
     "output_type": "stream",
     "text": [
      "HOME & LIVING\n",
      "tensor(20)\n"
     ]
    }
   ],
   "source": [
    "import torch\n",
    "\n",
    "def convert_labels(label):\n",
    "  return torch.tensor(label_to_index[label])\n",
    "\n",
    "\n",
    "labels = [cat for (text, cat) in text_cat_pairs]\n",
    "print(labels[20000])\n",
    "print(convert_labels(labels[20000]))"
   ]
  },
  {
   "cell_type": "code",
   "execution_count": 10,
   "metadata": {
    "colab": {
     "base_uri": "https://localhost:8080/"
    },
    "id": "XdDwBSjuX4mi",
    "outputId": "816fd1c2-aefa-45da-c3b2-326b240eb3e4"
   },
   "outputs": [
    {
     "data": {
      "text/plain": [
       "torch.Size([22000])"
      ]
     },
     "execution_count": 10,
     "metadata": {},
     "output_type": "execute_result"
    }
   ],
   "source": [
    "labels = [convert_labels(label) for label in labels]\n",
    "stacked_tensors_y = torch.stack(labels)\n",
    "stacked_tensors_y.shape"
   ]
  },
  {
   "cell_type": "code",
   "execution_count": 11,
   "metadata": {
    "id": "u8bDhor8Yyws"
   },
   "outputs": [],
   "source": [
    "stacked_tensors_y = stacked_tensors_y.long()"
   ]
  },
  {
   "cell_type": "code",
   "execution_count": 12,
   "metadata": {
    "id": "mXjlQrmFZcYx"
   },
   "outputs": [
    {
     "name": "stderr",
     "output_type": "stream",
     "text": [
      "c:\\Users\\Lenovo\\anaconda3\\envs\\pytorch-gpu\\lib\\site-packages\\tqdm\\auto.py:21: TqdmWarning: IProgress not found. Please update jupyter and ipywidgets. See https://ipywidgets.readthedocs.io/en/stable/user_install.html\n",
      "  from .autonotebook import tqdm as notebook_tqdm\n"
     ]
    }
   ],
   "source": [
    "from transformers import BertTokenizer, BertModel\n",
    "\n",
    "# Load pre-trained model tokenizer and embedding model\n",
    "tokenizer = BertTokenizer.from_pretrained('bert-base-uncased')\n",
    "embedding_model = BertModel.from_pretrained('bert-base-uncased')"
   ]
  },
  {
   "cell_type": "code",
   "execution_count": 13,
   "metadata": {
    "colab": {
     "base_uri": "https://localhost:8080/",
     "height": 53
    },
    "id": "WK1C29TTXKJ8",
    "outputId": "38ecfb3c-e98f-450a-d49c-10b2c09747fc"
   },
   "outputs": [
    {
     "data": {
      "text/plain": [
       "'Reporter Gets Adorable Surprise From Her Boyfriend While Live On TV || \"Who\\'s that behind you?\" an anchor for New York’s PIX11 asked journalist Michelle Ross as she finished up an interview.'"
      ]
     },
     "execution_count": 13,
     "metadata": {},
     "output_type": "execute_result"
    }
   ],
   "source": [
    "ex = text_cat_pairs[4][0]\n",
    "ex"
   ]
  },
  {
   "cell_type": "code",
   "execution_count": 14,
   "metadata": {
    "colab": {
     "base_uri": "https://localhost:8080/"
    },
    "id": "zs3upvENXOsL",
    "outputId": "36ffd64b-e830-4232-814f-31d6e48316e7"
   },
   "outputs": [
    {
     "name": "stdout",
     "output_type": "stream",
     "text": [
      "['[CLS]', 'reporter', 'gets', 'adorable', 'surprise', 'from', 'her', 'boyfriend', 'while', 'live', 'on', 'tv', '|', '|', '\"', 'who', \"'\", 's', 'that', 'behind', 'you', '?', '\"', 'an', 'anchor', 'for', 'new', 'york', '’', 's', 'pi', '##x', '##11', 'asked', 'journalist', 'michelle', 'ross', 'as', 'she', 'finished', 'up', 'an', 'interview', '.', '[SEP]']\n"
     ]
    }
   ],
   "source": [
    "tokens = tokenizer.encode(ex)\n",
    "print([tokenizer.decode([t]) for t in tokens])"
   ]
  },
  {
   "cell_type": "code",
   "execution_count": 15,
   "metadata": {
    "id": "8Wg88AX_ZrGy"
   },
   "outputs": [],
   "source": [
    "def embed_sentence(sentence):\n",
    "  inputs = tokenizer(sentence, return_tensors='pt')\n",
    "  with torch.no_grad():\n",
    "    outputs = embedding_model(**inputs)\n",
    "    embeddings = outputs.last_hidden_state\n",
    "  return embeddings.view(embeddings.size(1), -1)"
   ]
  },
  {
   "cell_type": "code",
   "execution_count": 16,
   "metadata": {
    "colab": {
     "base_uri": "https://localhost:8080/"
    },
    "id": "G-tPPmPhZK13",
    "outputId": "adffd1b1-8f47-432c-9133-e01bd9284273"
   },
   "outputs": [
    {
     "data": {
      "text/plain": [
       "45"
      ]
     },
     "execution_count": 16,
     "metadata": {},
     "output_type": "execute_result"
    }
   ],
   "source": [
    "len(tokens)"
   ]
  },
  {
   "cell_type": "code",
   "execution_count": 17,
   "metadata": {
    "colab": {
     "base_uri": "https://localhost:8080/"
    },
    "id": "57Xz5OKQao_Z",
    "outputId": "59a4e80a-ca93-4844-e0d6-3c8964a9085c"
   },
   "outputs": [
    {
     "data": {
      "text/plain": [
       "torch.Size([45, 768])"
      ]
     },
     "execution_count": 17,
     "metadata": {},
     "output_type": "execute_result"
    }
   ],
   "source": [
    "embedded_example = embed_sentence(ex)\n",
    "embedded_example.shape"
   ]
  },
  {
   "cell_type": "code",
   "execution_count": 18,
   "metadata": {
    "colab": {
     "base_uri": "https://localhost:8080/"
    },
    "id": "JC-C2YOHbA3R",
    "outputId": "4949eaa1-ac30-40ac-9e3c-52c760dcc7f9"
   },
   "outputs": [
    {
     "name": "stdout",
     "output_type": "stream",
     "text": [
      "torch.Size([37, 768])\n"
     ]
    }
   ],
   "source": [
    "embedded_sentences = [embed_sentence(text) for (text, cat) in text_cat_pairs]\n",
    "print(embedded_sentences[-1].shape)"
   ]
  },
  {
   "cell_type": "code",
   "execution_count": 19,
   "metadata": {
    "colab": {
     "base_uri": "https://localhost:8080/"
    },
    "id": "bhdzR6jtZz0n",
    "outputId": "1f37b98f-ddac-4deb-d9d5-14ac061d4c2a"
   },
   "outputs": [
    {
     "data": {
      "text/plain": [
       "22000"
      ]
     },
     "execution_count": 19,
     "metadata": {},
     "output_type": "execute_result"
    }
   ],
   "source": [
    "len(embedded_sentences)"
   ]
  },
  {
   "cell_type": "code",
   "execution_count": 20,
   "metadata": {
    "colab": {
     "base_uri": "https://localhost:8080/"
    },
    "id": "W0pF7zywbauR",
    "outputId": "33f473cc-0bd8-443a-cc53-0a08d37ec5da"
   },
   "outputs": [
    {
     "data": {
      "text/plain": [
       "torch.Size([22000, 125, 768])"
      ]
     },
     "execution_count": 20,
     "metadata": {},
     "output_type": "execute_result"
    }
   ],
   "source": [
    "# Find the maximum length among the embedded sentences\n",
    "max_len = max([x.shape[0] for x in embedded_sentences])\n",
    "\n",
    "# Pad the shorter sentences with zeros\n",
    "padded_sentences = []\n",
    "for sentence in embedded_sentences:\n",
    "  padding_length = max_len - sentence.shape[0]\n",
    "  if padding_length == 0:\n",
    "    padded_sentences.append(sentence)\n",
    "  else:\n",
    "    padding = torch.zeros(padding_length, sentence.shape[1])\n",
    "    padded_sentence = torch.cat((sentence, padding), dim=0)\n",
    "    padded_sentences.append(padded_sentence)\n",
    "\n",
    "# Stack the padded tensors\n",
    "stacked_tensors_x = torch.stack(padded_sentences)\n",
    "stacked_tensors_x.shape"
   ]
  },
  {
   "cell_type": "code",
   "execution_count": 21,
   "metadata": {},
   "outputs": [],
   "source": [
    "import torch\n",
    "import torch.nn as nn\n",
    "import torch.optim as optim\n",
    "import torch.nn.functional as F\n",
    "from sklearn.model_selection import train_test_split\n",
    "\n",
    "# Example: Suppose labels are stored in `labels`\n",
    "labels_tensor = torch.tensor([label_to_index[cat] for _, cat in text_cat_pairs])\n",
    "\n",
    "# Split data into train, validation, and test sets\n",
    "X_train, X_temp, y_train, y_temp = train_test_split(stacked_tensors_x, labels_tensor, test_size=0.3, random_state=42)\n",
    "X_val, X_test, y_val, y_test = train_test_split(X_temp, y_temp, test_size=0.5, random_state=42)\n",
    "\n",
    "# Prepare DataLoaders\n",
    "train_data = [(X_train[i], y_train[i]) for i in range(len(X_train))]\n",
    "val_data = [(X_val[i], y_val[i]) for i in range(len(X_val))]\n",
    "test_data = [(X_test[i], y_test[i]) for i in range(len(X_test))]\n",
    "\n",
    "train_loader = torch.utils.data.DataLoader(train_data, batch_size=32, shuffle=True)\n",
    "val_loader = torch.utils.data.DataLoader(val_data, batch_size=32, shuffle=False)\n",
    "test_loader = torch.utils.data.DataLoader(test_data, batch_size=32, shuffle=False)\n"
   ]
  },
  {
   "cell_type": "code",
   "execution_count": 28,
   "metadata": {},
   "outputs": [
    {
     "name": "stdout",
     "output_type": "stream",
     "text": [
      "Using device: cuda\n"
     ]
    },
    {
     "name": "stderr",
     "output_type": "stream",
     "text": [
      "Training Epoch 1/100: 100%|██████████| 482/482 [01:01<00:00,  7.87it/s]\n"
     ]
    },
    {
     "name": "stdout",
     "output_type": "stream",
     "text": [
      "Epoch [1/100], Loss: 1.6244, Accuracy: 50.34%\n",
      "Validation Loss: 1.3552, Validation Accuracy: 63.36%\n"
     ]
    },
    {
     "name": "stderr",
     "output_type": "stream",
     "text": [
      "Training Epoch 2/100: 100%|██████████| 482/482 [01:03<00:00,  7.54it/s]\n"
     ]
    },
    {
     "name": "stdout",
     "output_type": "stream",
     "text": [
      "Epoch [2/100], Loss: 1.1194, Accuracy: 65.59%\n",
      "Validation Loss: 1.4101, Validation Accuracy: 65.33%\n"
     ]
    },
    {
     "name": "stderr",
     "output_type": "stream",
     "text": [
      "Training Epoch 3/100: 100%|██████████| 482/482 [01:02<00:00,  7.73it/s]\n"
     ]
    },
    {
     "name": "stdout",
     "output_type": "stream",
     "text": [
      "Epoch [3/100], Loss: 0.9467, Accuracy: 70.76%\n",
      "Validation Loss: 1.2375, Validation Accuracy: 69.30%\n"
     ]
    },
    {
     "name": "stderr",
     "output_type": "stream",
     "text": [
      "Training Epoch 4/100: 100%|██████████| 482/482 [01:01<00:00,  7.83it/s]\n"
     ]
    },
    {
     "name": "stdout",
     "output_type": "stream",
     "text": [
      "Epoch [4/100], Loss: 0.8363, Accuracy: 73.96%\n",
      "Validation Loss: 1.2451, Validation Accuracy: 69.76%\n"
     ]
    },
    {
     "name": "stderr",
     "output_type": "stream",
     "text": [
      "Training Epoch 5/100: 100%|██████████| 482/482 [01:01<00:00,  7.81it/s]\n"
     ]
    },
    {
     "name": "stdout",
     "output_type": "stream",
     "text": [
      "Epoch [5/100], Loss: 0.6951, Accuracy: 78.16%\n",
      "Validation Loss: 1.3093, Validation Accuracy: 69.30%\n"
     ]
    },
    {
     "name": "stderr",
     "output_type": "stream",
     "text": [
      "Training Epoch 6/100: 100%|██████████| 482/482 [01:02<00:00,  7.69it/s]\n"
     ]
    },
    {
     "name": "stdout",
     "output_type": "stream",
     "text": [
      "Epoch [6/100], Loss: 0.5473, Accuracy: 83.01%\n",
      "Validation Loss: 1.4072, Validation Accuracy: 70.06%\n"
     ]
    },
    {
     "name": "stderr",
     "output_type": "stream",
     "text": [
      "Training Epoch 7/100: 100%|██████████| 482/482 [01:03<00:00,  7.64it/s]\n"
     ]
    },
    {
     "name": "stdout",
     "output_type": "stream",
     "text": [
      "Epoch [7/100], Loss: 0.4440, Accuracy: 86.06%\n",
      "Validation Loss: 1.4441, Validation Accuracy: 70.27%\n"
     ]
    },
    {
     "name": "stderr",
     "output_type": "stream",
     "text": [
      "Training Epoch 8/100: 100%|██████████| 482/482 [01:02<00:00,  7.75it/s]\n"
     ]
    },
    {
     "name": "stdout",
     "output_type": "stream",
     "text": [
      "Epoch [8/100], Loss: 0.3366, Accuracy: 89.31%\n",
      "Validation Loss: 1.6401, Validation Accuracy: 69.42%\n"
     ]
    },
    {
     "name": "stderr",
     "output_type": "stream",
     "text": [
      "Training Epoch 9/100: 100%|██████████| 482/482 [01:01<00:00,  7.84it/s]\n"
     ]
    },
    {
     "name": "stdout",
     "output_type": "stream",
     "text": [
      "Epoch [9/100], Loss: 0.2653, Accuracy: 91.82%\n",
      "Validation Loss: 1.8294, Validation Accuracy: 69.18%\n"
     ]
    },
    {
     "name": "stderr",
     "output_type": "stream",
     "text": [
      "Training Epoch 10/100: 100%|██████████| 482/482 [01:02<00:00,  7.77it/s]\n"
     ]
    },
    {
     "name": "stdout",
     "output_type": "stream",
     "text": [
      "Epoch [10/100], Loss: 0.2134, Accuracy: 93.26%\n",
      "Validation Loss: 1.9530, Validation Accuracy: 69.12%\n"
     ]
    },
    {
     "name": "stderr",
     "output_type": "stream",
     "text": [
      "Training Epoch 11/100: 100%|██████████| 482/482 [01:01<00:00,  7.82it/s]\n"
     ]
    },
    {
     "name": "stdout",
     "output_type": "stream",
     "text": [
      "Epoch [11/100], Loss: 0.1401, Accuracy: 95.60%\n",
      "Validation Loss: 2.0685, Validation Accuracy: 68.88%\n"
     ]
    },
    {
     "name": "stderr",
     "output_type": "stream",
     "text": [
      "Training Epoch 12/100: 100%|██████████| 482/482 [01:01<00:00,  7.81it/s]\n"
     ]
    },
    {
     "name": "stdout",
     "output_type": "stream",
     "text": [
      "Epoch [12/100], Loss: 0.1080, Accuracy: 96.62%\n",
      "Validation Loss: 2.2903, Validation Accuracy: 67.55%\n",
      "Validation Accuracy Decreasing - Early Stopping!\n",
      "Model saved successfully!\n"
     ]
    },
    {
     "data": {
      "image/png": "[encoded data removed]",
      "text/plain": [
       "<Figure size 1000x500 with 1 Axes>"
      ]
     },
     "metadata": {},
     "output_type": "display_data"
    }
   ],
   "source": [
    "import torch\n",
    "import torch.nn as nn\n",
    "import torch.optim as optim\n",
    "import matplotlib.pyplot as plt\n",
    "from sklearn.metrics import classification_report\n",
    "from tqdm import tqdm\n",
    "\n",
    "# Set device (GPU if available)\n",
    "device = torch.device(\"cuda\" if torch.cuda.is_available() else \"cpu\")\n",
    "print(f\"Using device: {device}\")\n",
    "\n",
    "# Transformer Classifier Model\n",
    "class TransformerClassifier(nn.Module):\n",
    "    def __init__(self, input_dim, num_classes=22, num_heads=64, hidden_dim=256, num_layers=6, dropout=0.7):\n",
    "        super(TransformerClassifier, self).__init__()\n",
    "        self.transformer = nn.TransformerEncoder(\n",
    "            nn.TransformerEncoderLayer(d_model=input_dim, nhead=num_heads, dim_feedforward=hidden_dim, dropout=dropout, batch_first=True),\n",
    "            num_layers=num_layers\n",
    "        )\n",
    "        self.fc = nn.Linear(input_dim, num_classes)\n",
    "        self.dropout = nn.Dropout(dropout)\n",
    "\n",
    "    def forward(self, x):\n",
    "        x = self.transformer(x)  # No need to permute\n",
    "        x = x.mean(dim=1)  # Global average pooling\n",
    "        x = self.dropout(x)\n",
    "        x = self.fc(x)\n",
    "        return x\n",
    "\n",
    "# Ensure correct input dimensions\n",
    "input_dim = stacked_tensors_x.shape[2]  # Feature size\n",
    "num_classes = len(label_to_index)  # Number of classes\n",
    "\n",
    "# Initialize Model & Move to GPU\n",
    "model = TransformerClassifier(input_dim=input_dim, num_classes=num_classes).to(device)\n",
    "\n",
    "# Loss Function\n",
    "criterion = nn.CrossEntropyLoss()\n",
    "\n",
    "# Optimizer with L2 Regularization (Weight Decay)\n",
    "optimizer = optim.Adam(model.parameters(), lr=1e-4, weight_decay=1e-4)  # L2 regularization\n",
    "\n",
    "# Learning Rate Scheduler\n",
    "scheduler = optim.lr_scheduler.StepLR(optimizer, step_size=5, gamma=0.8)  # Reduce LR every 5 epochs\n",
    "\n",
    "# Training Setup\n",
    "num_epochs = 100\n",
    "train_losses, train_accuracies, val_losses, val_accuracies = [], [], [], []\n",
    "\n",
    "# Training Loop\n",
    "for epoch in range(num_epochs):\n",
    "    model.train()\n",
    "    train_loss, correct_preds, total_preds = 0, 0, 0\n",
    "    all_preds, all_labels = [], []\n",
    "\n",
    "    for embeddings, labels in tqdm(train_loader, desc=f\"Training Epoch {epoch+1}/{num_epochs}\"):\n",
    "        embeddings, labels = embeddings.to(device), labels.to(device)\n",
    "\n",
    "        optimizer.zero_grad()\n",
    "        outputs = model(embeddings)\n",
    "        loss = criterion(outputs, labels)\n",
    "        loss.backward()\n",
    "        optimizer.step()\n",
    "\n",
    "        train_loss += loss.item() * embeddings.size(0)\n",
    "        _, predicted = torch.max(outputs, dim=1)\n",
    "        correct_preds += (predicted == labels).sum().item()\n",
    "        total_preds += labels.size(0)\n",
    "\n",
    "        all_preds.extend(predicted.cpu().numpy())\n",
    "        all_labels.extend(labels.cpu().numpy())\n",
    "\n",
    "    train_loss /= total_preds\n",
    "    train_accuracy = 100 * correct_preds / total_preds\n",
    "    train_losses.append(train_loss)\n",
    "    train_accuracies.append(train_accuracy)\n",
    "    scheduler.step()  # Adjust learning rate\n",
    "\n",
    "    print(f\"Epoch [{epoch+1}/{num_epochs}], Loss: {train_loss:.4f}, Accuracy: {train_accuracy:.2f}%\")\n",
    "\n",
    "    # Validation Loop\n",
    "    model.eval()\n",
    "    val_loss, correct_preds, total_preds = 0.0, 0, 0\n",
    "    val_preds, val_labels = [], []\n",
    "\n",
    "    with torch.no_grad():\n",
    "        for embeddings, labels in val_loader:\n",
    "            embeddings, labels = embeddings.to(device), labels.to(device)\n",
    "            outputs = model(embeddings)\n",
    "            loss = criterion(outputs, labels)\n",
    "            val_loss += loss.item() * embeddings.size(0)\n",
    "            _, predicted = torch.max(outputs, dim=1)\n",
    "            correct_preds += (predicted == labels).sum().item()\n",
    "            total_preds += labels.size(0)\n",
    "\n",
    "            val_preds.extend(predicted.cpu().numpy())\n",
    "            val_labels.extend(labels.cpu().numpy())\n",
    "\n",
    "    val_loss /= total_preds\n",
    "    val_accuracy = 100 * correct_preds / total_preds\n",
    "    val_losses.append(val_loss)\n",
    "    val_accuracies.append(val_accuracy)\n",
    "\n",
    "    print(f\"Validation Loss: {val_loss:.4f}, Validation Accuracy: {val_accuracy:.2f}%\")\n",
    "\n",
    "    # Early Stopping Condition (If Validation Accuracy Drops)\n",
    "    if epoch > 10 and val_accuracies[-1] < val_accuracies[-2]:\n",
    "        print(\"Validation Accuracy Decreasing - Early Stopping!\")\n",
    "        break\n",
    "\n",
    "# Save Model\n",
    "torch.save(model.state_dict(), \"transformer_classifier.pth\")\n",
    "print(\"Model saved successfully!\")\n",
    "\n",
    "# Plot Training & Validation Accuracy\n",
    "plt.figure(figsize=(10,5))\n",
    "plt.plot(train_accuracies, label=\"Train Accuracy\")\n",
    "plt.plot(val_accuracies, label=\"Validation Accuracy\")\n",
    "plt.xlabel(\"Epochs\")\n",
    "plt.ylabel(\"Accuracy (%)\")\n",
    "plt.legend()\n",
    "plt.title(\"Training vs Validation Accuracy\")\n",
    "plt.show()\n"
   ]
  },
  {
   "cell_type": "code",
   "execution_count": 50,
   "metadata": {},
   "outputs": [
    {
     "name": "stdout",
     "output_type": "stream",
     "text": [
      "Model, tokenizer, and config saved in 'model'\n"
     ]
    }
   ],
   "source": [
    "import torch\n",
    "import json\n",
    "from transformers import BertTokenizer\n",
    "\n",
    "# ✅ Save PyTorch Model\n",
    "model_path = \"model\"\n",
    "torch.save(model.state_dict(), f\"{model_path}/model.pth\")\n",
    "\n",
    "# ✅ Save Tokenizer (Using Hugging Face)\n",
    "tokenizer.save_pretrained(model_path)\n",
    "\n",
    "# ✅ Save Model Configuration (Metadata)\n",
    "config = {\n",
    "    \"input_dim\": 768,   # Must match your model's input size\n",
    "    \"num_classes\": 22,  # Must match the number of categories\n",
    "    \"num_heads\": 64,\n",
    "    \"hidden_dim\": 256,\n",
    "    \"num_layers\": 6,\n",
    "    \"dropout\": 0.7\n",
    "}\n",
    "\n",
    "with open(f\"{model_path}/config.json\", \"w\") as f:\n",
    "    json.dump(config, f)\n",
    "\n",
    "print(f\"Model, tokenizer, and config saved in '{model_path}'\")\n"
   ]
  },
  {
   "cell_type": "code",
   "execution_count": 52,
   "metadata": {},
   "outputs": [
    {
     "name": "stderr",
     "output_type": "stream",
     "text": [
      "C:\\Users\\Lenovo\\AppData\\Local\\Temp\\ipykernel_44712\\2784453295.py:34: FutureWarning: You are using `torch.load` with `weights_only=False` (the current default value), which uses the default pickle module implicitly. It is possible to construct malicious pickle data which will execute arbitrary code during unpickling (See https://github.com/pytorch/pytorch/blob/main/SECURITY.md#untrusted-models for more details). In a future release, the default value for `weights_only` will be flipped to `True`. This limits the functions that could be executed during unpickling. Arbitrary objects will no longer be allowed to be loaded via this mode unless they are explicitly allowlisted by the user via `torch.serialization.add_safe_globals`. We recommend you start setting `weights_only=True` for any use case where you don't have full control of the loaded file. Please open an issue on GitHub for any issues related to this experimental feature.\n",
      "  model.load_state_dict(torch.load(f\"{model_path}/model.pth\", map_location=device))\n"
     ]
    },
    {
     "name": "stdout",
     "output_type": "stream",
     "text": [
      "Input Text: What are the latest advancements in artificial intelligence?\n",
      "Predicted Category: TECH\n"
     ]
    }
   ],
   "source": [
    "import torch\n",
    "import json\n",
    "from transformers import BertTokenizer, BertModel\n",
    "\n",
    "# ✅ Load Model Configuration\n",
    "model_path = \"model\"\n",
    "with open(f\"{model_path}/config.json\", \"r\") as f:\n",
    "    config = json.load(f)\n",
    "\n",
    "# ✅ Load Tokenizer\n",
    "tokenizer = BertTokenizer.from_pretrained(model_path)\n",
    "\n",
    "# ✅ Define TransformerClassifier Model (Must match saved model)\n",
    "class TransformerClassifier(torch.nn.Module):\n",
    "    def __init__(self, input_dim, num_classes, num_heads, hidden_dim, num_layers, dropout):\n",
    "        super(TransformerClassifier, self).__init__()\n",
    "        self.transformer = torch.nn.TransformerEncoder(\n",
    "            torch.nn.TransformerEncoderLayer(d_model=input_dim, nhead=num_heads, dim_feedforward=hidden_dim, dropout=dropout, batch_first=True),\n",
    "            num_layers=num_layers\n",
    "        )\n",
    "        self.fc = torch.nn.Linear(input_dim, num_classes)\n",
    "        self.dropout = torch.nn.Dropout(dropout)\n",
    "\n",
    "    def forward(self, x):\n",
    "        x = self.transformer(x)\n",
    "        x = x.mean(dim=1)\n",
    "        x = self.dropout(x)\n",
    "        x = self.fc(x)\n",
    "        return x\n",
    "\n",
    "# ✅ Load Model\n",
    "device = torch.device(\"cuda\" if torch.cuda.is_available() else \"cpu\")\n",
    "model = TransformerClassifier(**config).to(device)\n",
    "model.load_state_dict(torch.load(f\"{model_path}/model.pth\", map_location=device))\n",
    "model.eval()\n",
    "\n",
    "# ✅ Load BERT Model for Embeddings\n",
    "embedding_model = BertModel.from_pretrained(\"bert-base-uncased\").to(device)\n",
    "\n",
    "# ✅ Define Correct Category Labels (Provided by You)\n",
    "category_labels = {\n",
    "    0: 'U.S. NEWS', 1: 'COMEDY', 2: 'PARENTING', 3: 'WORLD NEWS', 4: 'CULTURE & ARTS',\n",
    "    5: 'TECH', 6: 'SPORTS', 7: 'ENTERTAINMENT', 8: 'POLITICS', 9: 'WEIRD NEWS',\n",
    "    10: 'ENVIRONMENT', 11: 'EDUCATION', 12: 'CRIME', 13: 'SCIENCE', 14: 'WELLNESS',\n",
    "    15: 'BUSINESS', 16: 'STYLE & BEAUTY', 17: 'FOOD & DRINK', 18: 'MEDIA',\n",
    "    19: 'QUEER VOICES', 20: 'HOME & LIVING', 21: 'WOMEN'\n",
    "}\n",
    "\n",
    "# ✅ Function to Predict Category\n",
    "def predict_category(text):\n",
    "    # ✅ Tokenize Input Text\n",
    "    inputs = tokenizer(text, return_tensors=\"pt\", truncation=True, padding=True)\n",
    "    inputs = {key: value.to(device) for key, value in inputs.items()}\n",
    "\n",
    "    # ✅ Generate Embeddings Using BERT\n",
    "    with torch.no_grad():\n",
    "        embeddings = embedding_model(**inputs).last_hidden_state\n",
    "        embeddings = embeddings.mean(dim=1)  # Shape: (1, 768)\n",
    "\n",
    "    embeddings = embeddings.unsqueeze(0)  # Ensure shape is (1, 768)\n",
    "\n",
    "    # ✅ Pass Embeddings Through Transformer Classifier\n",
    "    with torch.no_grad():\n",
    "        outputs = model(embeddings)  # Shape: (1, num_classes)\n",
    "        predicted_class = torch.argmax(outputs, dim=1).item()\n",
    "\n",
    "    return category_labels[predicted_class]\n",
    "\n",
    "# ✅ Example Usage\n",
    "text_input = \"What are the latest advancements in artificial intelligence?\"\n",
    "predicted_category = predict_category(text_input)\n",
    "print(f\"Input Text: {text_input}\\nPredicted Category: {predicted_category}\")\n"
   ]
  },
  {
   "cell_type": "code",
   "execution_count": null,
   "metadata": {},
   "outputs": [
    {
     "name": "stdout",
     "output_type": "stream",
     "text": [
      "Input Text: What are the latest advancements in artificial intelligence?\n",
      "Predicted Category: TECH\n"
     ]
    }
   ],
   "source": [
    "text_input = \"What are the latest advancements in artificial intelligence?\"\n",
    "predicted_category = predict_category(text_input)\n",
    "print(f\"Input Text: {text_input}\\nPredicted Category: {predicted_category}\")"
   ]
  },
  {
   "cell_type": "code",
   "execution_count": 54,
   "metadata": {},
   "outputs": [],
   "source": [
    "import json\n",
    "import torch\n",
    "import numpy as np\n",
    "from transformers import BertTokenizer, BertModel\n",
    "from sklearn.metrics.pairwise import cosine_similarity\n",
    "\n",
    "# ✅ Load JSON Data (News Articles)\n",
    "with open(\"filtered_news.json\", \"r\", encoding=\"utf-8\") as f:\n",
    "    news_data = json.load(f)\n",
    "\n",
    "# ✅ Load Tokenizer & Pretrained BERT Model for Sentence Embeddings\n",
    "device = torch.device(\"cuda\" if torch.cuda.is_available() else \"cpu\")\n",
    "tokenizer = BertTokenizer.from_pretrained(\"bert-base-uncased\")\n",
    "embedding_model = BertModel.from_pretrained(\"bert-base-uncased\").to(device)\n"
   ]
  },
  {
   "cell_type": "code",
   "execution_count": 55,
   "metadata": {},
   "outputs": [],
   "source": [
    "# ✅ Function to Compute Sentence Embeddings\n",
    "def get_embedding(text):\n",
    "    inputs = tokenizer(text, return_tensors=\"pt\", truncation=True, padding=\"max_length\", max_length=128)\n",
    "    inputs = {key: value.to(device) for key, value in inputs.items()}\n",
    "    with torch.no_grad():\n",
    "        embedding = embedding_model(**inputs).last_hidden_state.mean(dim=1).cpu().numpy()\n",
    "    return embedding\n",
    "\n",
    "# ✅ Function to Find Similar News Articles\n",
    "def get_similar_articles(text, predicted_category, top_n=10):\n",
    "    # ✅ Filter Articles by Category\n",
    "    category_articles = [article for article in news_data if article[\"category\"] == predicted_category]\n",
    "\n",
    "    if not category_articles:\n",
    "        return []\n",
    "\n",
    "    # ✅ Compute Embedding for Input Text\n",
    "    input_embedding = get_embedding(text)\n",
    "\n",
    "    # ✅ Compute Embeddings for Each News Article in the Category\n",
    "    article_embeddings = []\n",
    "    for article in category_articles:\n",
    "        article_embedding = get_embedding(article[\"headline\"])\n",
    "        article_embeddings.append(article_embedding)\n",
    "\n",
    "    # ✅ Compute Cosine Similarity\n",
    "    article_embeddings = np.vstack(article_embeddings)\n",
    "    similarities = cosine_similarity(input_embedding, article_embeddings).flatten()\n",
    "\n",
    "    # ✅ Get Top N Most Similar Articles\n",
    "    top_indices = similarities.argsort()[-top_n:][::-1]\n",
    "    similar_articles = [category_articles[i] for i in top_indices]\n",
    "\n",
    "    return similar_articles\n"
   ]
  },
  {
   "cell_type": "code",
   "execution_count": 56,
   "metadata": {},
   "outputs": [
    {
     "name": "stdout",
     "output_type": "stream",
     "text": [
      "\n",
      "🔍 Top 10 Similar Articles:\n",
      "\n",
      "1. What's The Future Of Bitcoin Mining?\n",
      "   Bitcoin as a currency is simply one application.\n",
      "   🔗 https://www.huffingtonpost.com/entry/whats-the-future-of-bitcoin-mining_us_57c22ff9e4b00c54015e2ec3\n",
      "\n",
      "2. Can Silicon Valley Be The Heartbeat Of Technology For Good?\n",
      "   Will technological revolution result in a safer and better world, or a more dangerous one?\n",
      "   🔗 https://www.huffingtonpost.com/entry/can-silicon-valley-be-the-heartbeat-of-technology-for_us_58d35876e4b002482d6e6e71\n",
      "\n",
      "3. Why Are Digital Assistants Like Siri Given Female Voices?\n",
      "   At an artificial intelligence conference, a good question gets a surprising answer.\n",
      "   🔗 https://www.huffingtonpost.com/entry/technology-female-voices_us_56c8a6cbe4b0928f5a6c1942\n",
      "\n",
      "4. Does The World Need A ‘Marshall Plan’ For Technology?\n",
      "   Investing in global infrastructure should include fast and secure digital connectivity The idea of economic planning dominated\n",
      "   🔗 https://www.huffingtonpost.com/entry/does-the-world-need-a-marshall-plan-for-technology_us_59be5b15e4b02c642e4a176e\n",
      "\n",
      "5. How In The World Does Venmo Make Money?\n",
      "   The feature that sets Venmo apart is the social feed, which brings transparency to a class of transactions that used to be entirely private.\n",
      "   🔗 https://www.huffingtonpost.com/entry/how-in-the-world-does-venmo-make-money_us_59763452e4b0940189700bac\n",
      "\n",
      "6. What Won’t Change In 20 Years?\n",
      "   For entrepreneurs, understanding what is constant and what is changing can give you an enormous competitive edge on those who don't.\n",
      "   🔗 https://www.huffingtonpost.com/entry/what-wont-change-in-20-years_us_577942c0e4b0746f56484102\n",
      "\n",
      "7. Why A Mining Company Is Getting Into Face Recognition Software\n",
      "   Caterpillar Safety Services monitors its truck drivers for signs of fatigue.\n",
      "   🔗 https://www.huffingtonpost.com/entry/caterpillar-sleep-fatigue-center_us_577d4c2ce4b0a629c1ab9b58\n",
      "\n",
      "8. Is Apple Near The End Of Their Run?\n",
      "   Is Apple near the end of their run? Apple has become the number one trusted brand for computers and cell phones. People buy\n",
      "   🔗 https://www.huffingtonpost.com/entry/is-apple-near-the-end-of-their-run_us_5868acdee4b068764965c2a9\n",
      "\n",
      "9. Why Refrigerators Should Stay Forever Dumb\n",
      "   \"Smart\" fridges are becoming more common, but there are a few big problems.\n",
      "   🔗 https://www.huffingtonpost.com/entry/samsung-smart-fridge_us_568a80cee4b0b958f65c19f0\n",
      "\n",
      "10. Are We Moving Closer To Having Designer Babies?\n",
      "   Humanity is moving from evolution by natural selection to evolution by intelligent direction at an accelerating pace.\n",
      "   🔗 https://www.huffingtonpost.com/entry/designer-babies_us_57f05d20e4b07f20daa10c98\n"
     ]
    }
   ],
   "source": [
    "# ✅ Example Input\n",
    "text_input = \"What are the latest advancements in artificial intelligence?\"\n",
    "predicted_category = \"TECH\"  # Assuming this is the predicted category\n",
    "\n",
    "# ✅ Get Top 10 Similar Articles\n",
    "similar_articles = get_similar_articles(text_input, predicted_category, top_n=10)\n",
    "\n",
    "# ✅ Display Results\n",
    "print(\"\\n🔍 Top 10 Similar Articles:\")\n",
    "for i, article in enumerate(similar_articles, 1):\n",
    "    print(f\"\\n{i}. {article['headline']}\")\n",
    "    print(f\"   {article['short_description']}\")\n",
    "    print(f\"   🔗 {article['link']}\")\n"
   ]
  },
  {
   "cell_type": "code",
   "execution_count": 64,
   "metadata": {},
   "outputs": [
    {
     "name": "stdout",
     "output_type": "stream",
     "text": [
      "🤖 LLM Response: content='**Latest Advancements in Artificial Intelligence**\\n\\nThe field of artificial intelligence (AI) has made tremendous progress in recent years, with numerous breakthroughs and innovations that are transforming various industries and aspects of our lives. Here are some of the latest advancements in AI:\\n\\n1. **Edge AI**: As the demand for real-time processing and low-latency data analysis grows, Edge AI has emerged as a critical technology. Edge AI enables AI processing to occur on devices or gateways, reducing latency and improving performance.\\n2. **Explainable AI (XAI)**: XAI is a subfield of AI that focuses on developing techniques to explain the decision-making processes of AI models. This is crucial in applications where transparency and trust are essential, such as healthcare, finance, and government.\\n3. **Natural Language Processing (NLP)**: NLP has seen significant advancements, with the development of more accurate language models, sentiment analysis, and speech recognition systems. Applications include chatbots, virtual assistants, and language translation tools.\\n4. **Computer Vision**: Computer vision has improved dramatically, enabling AI systems to interpret and understand visual data from images and videos. Applications include facial recognition, object detection, and autonomous vehicles.\\n5. **Generative Adversarial Networks (GANs)**: GANs are a type of deep learning algorithm that enables the generation of realistic data, such as images, videos, and music. This technology has numerous applications, including data augmentation, style transfer, and content creation.\\n6. **Quantum AI**: The intersection of quantum computing and AI is an emerging field that promises to revolutionize the way we approach complex problems. Quantum AI combines the power of quantum computing with machine learning to solve complex problems.\\n7. **Neural Architecture Search (NAS)**: NAS is an AI technique that enables the automated design of neural network architectures. This technology has the potential to improve the efficiency and effectiveness of AI models.\\n8. **Transfer Learning**: Transfer learning is a technique that allows AI models to learn from one task and apply those learnings to another related task. This has significantly improved the accuracy and efficiency of AI systems.\\n9. **Attention Mechanisms**: Attention mechanisms are a type of neural network component that allows AI models to focus on specific parts of the input data. This technology has improved the performance of many AI applications, including language translation and text summarization.\\n10. **Autonomous Systems**: Autonomous systems, such as self-driving cars, drones, and robots, are becoming increasingly sophisticated, thanks to advancements in AI, computer vision, and sensor technologies.\\n\\nThese are just a few examples of the latest advancements in artificial intelligence. As the field continues to evolve, we can expect to see even more innovative applications and breakthroughs that will transform various industries and aspects of our lives.' additional_kwargs={} response_metadata={'token_usage': {'completion_tokens': 562, 'prompt_tokens': 37, 'total_tokens': 599, 'completion_time': 0.468333333, 'prompt_time': 0.013932895, 'queue_time': 0.157803453, 'total_time': 0.482266228}, 'model_name': 'Llama3-8b-8192', 'system_fingerprint': 'fp_a97cfe35ae', 'finish_reason': 'stop', 'logprobs': None} id='run-db14940a-4a55-4596-a4cb-d5479896f3f5-0' usage_metadata={'input_tokens': 37, 'output_tokens': 562, 'total_tokens': 599}\n",
      "🎯 Predicted Category: TECH\n",
      "\n",
      "📜 **Top 10 Similar Articles:**\n",
      "🔹 What's The Future Of Bitcoin Mining? (https://www.huffingtonpost.com/entry/whats-the-future-of-bitcoin-mining_us_57c22ff9e4b00c54015e2ec3)\n",
      "🔹 Can Silicon Valley Be The Heartbeat Of Technology For Good? (https://www.huffingtonpost.com/entry/can-silicon-valley-be-the-heartbeat-of-technology-for_us_58d35876e4b002482d6e6e71)\n",
      "🔹 Why Are Digital Assistants Like Siri Given Female Voices? (https://www.huffingtonpost.com/entry/technology-female-voices_us_56c8a6cbe4b0928f5a6c1942)\n",
      "🔹 Does The World Need A ‘Marshall Plan’ For Technology? (https://www.huffingtonpost.com/entry/does-the-world-need-a-marshall-plan-for-technology_us_59be5b15e4b02c642e4a176e)\n",
      "🔹 How In The World Does Venmo Make Money? (https://www.huffingtonpost.com/entry/how-in-the-world-does-venmo-make-money_us_59763452e4b0940189700bac)\n",
      "🔹 What Won’t Change In 20 Years? (https://www.huffingtonpost.com/entry/what-wont-change-in-20-years_us_577942c0e4b0746f56484102)\n",
      "🔹 Why A Mining Company Is Getting Into Face Recognition Software (https://www.huffingtonpost.com/entry/caterpillar-sleep-fatigue-center_us_577d4c2ce4b0a629c1ab9b58)\n",
      "🔹 Is Apple Near The End Of Their Run? (https://www.huffingtonpost.com/entry/is-apple-near-the-end-of-their-run_us_5868acdee4b068764965c2a9)\n",
      "🔹 Why Refrigerators Should Stay Forever Dumb (https://www.huffingtonpost.com/entry/samsung-smart-fridge_us_568a80cee4b0b958f65c19f0)\n",
      "🔹 Are We Moving Closer To Having Designer Babies? (https://www.huffingtonpost.com/entry/designer-babies_us_57f05d20e4b07f20daa10c98)\n"
     ]
    }
   ],
   "source": [
    "import os\n",
    "import torch\n",
    "import json\n",
    "from langchain_groq import ChatGroq\n",
    "from dotenv import load_dotenv\n",
    "\n",
    "# ✅ Load API Key\n",
    "load_dotenv()\n",
    "groq_api_key = os.getenv(\"GROQ_API_KEY\")\n",
    "\n",
    "# ✅ Initialize LLM (Llama 3)\n",
    "llm = ChatGroq(groq_api_key=groq_api_key, model_name=\"Llama3-8b-8192\")\n",
    "\n",
    "# ✅ Define Function to Get Response\n",
    "def get_response(user_query, chat_history):\n",
    "    predicted_category = predict_category(user_query)  # 🎯 Classify Query\n",
    "    similar_articles = get_similar_articles(user_query, predicted_category, top_n=10)  # 📜 Retrieve Articles\n",
    "\n",
    "    # 🧠 LLM Generates Response\n",
    "    response = llm.invoke(f\"User Query: {user_query}\\nPredicted Category: {predicted_category}\\n\\nGenerate a helpful response based on the category.\")\n",
    "\n",
    "    return response, predicted_category, similar_articles\n",
    "\n",
    "# ✅ Run Example\n",
    "chat_history = []\n",
    "user_query = \"What are the latest advancements in artificial intelligence?\"\n",
    "llm_response, predicted_category, articles = get_response(user_query, chat_history)\n",
    "\n",
    "print(f\"🤖 LLM Response: {llm_response}\")\n",
    "print(f\"🎯 Predicted Category: {predicted_category}\")\n",
    "\n",
    "print(\"\\n📜 **Top 10 Similar Articles:**\")\n",
    "for article in articles:\n",
    "    print(f\"🔹 {article['headline']} ({article['link']})\")\n"
   ]
  },
  {
   "cell_type": "code",
   "execution_count": null,
   "metadata": {},
   "outputs": [],
   "source": []
  },
  {
   "cell_type": "code",
   "execution_count": null,
   "metadata": {},
   "outputs": [],
   "source": []
  },
  {
   "cell_type": "code",
   "execution_count": null,
   "metadata": {},
   "outputs": [],
   "source": []
  },
  {
   "cell_type": "code",
   "execution_count": null,
   "metadata": {},
   "outputs": [],
   "source": []
  },
  {
   "cell_type": "code",
   "execution_count": 26,
   "metadata": {},
   "outputs": [
    {
     "name": "stdout",
     "output_type": "stream",
     "text": [
      "Epoch [1/20], Loss: 3.09, Accuracy: 4.66%\n",
      "Validation Loss: 3.09, Validation Accuracy: 4.36%\n",
      "F1 Score: 0.00, Precision: 0.05, Recall: 0.04\n"
     ]
    },
    {
     "name": "stderr",
     "output_type": "stream",
     "text": [
      "c:\\Users\\Lenovo\\anaconda3\\envs\\pytorch-gpu\\lib\\site-packages\\sklearn\\metrics\\_classification.py:1565: UndefinedMetricWarning: Precision is ill-defined and being set to 0.0 in labels with no predicted samples. Use `zero_division` parameter to control this behavior.\n",
      "  _warn_prf(average, modifier, f\"{metric.capitalize()} is\", len(result))\n"
     ]
    },
    {
     "name": "stdout",
     "output_type": "stream",
     "text": [
      "Epoch [2/20], Loss: 3.09, Accuracy: 4.56%\n",
      "Validation Loss: 3.09, Validation Accuracy: 4.33%\n",
      "F1 Score: 0.00, Precision: 0.00, Recall: 0.04\n"
     ]
    },
    {
     "name": "stderr",
     "output_type": "stream",
     "text": [
      "c:\\Users\\Lenovo\\anaconda3\\envs\\pytorch-gpu\\lib\\site-packages\\sklearn\\metrics\\_classification.py:1565: UndefinedMetricWarning: Precision is ill-defined and being set to 0.0 in labels with no predicted samples. Use `zero_division` parameter to control this behavior.\n",
      "  _warn_prf(average, modifier, f\"{metric.capitalize()} is\", len(result))\n"
     ]
    },
    {
     "name": "stdout",
     "output_type": "stream",
     "text": [
      "Epoch [3/20], Loss: 3.09, Accuracy: 4.71%\n",
      "Validation Loss: 3.09, Validation Accuracy: 4.33%\n",
      "F1 Score: 0.00, Precision: 0.00, Recall: 0.04\n"
     ]
    },
    {
     "name": "stderr",
     "output_type": "stream",
     "text": [
      "c:\\Users\\Lenovo\\anaconda3\\envs\\pytorch-gpu\\lib\\site-packages\\sklearn\\metrics\\_classification.py:1565: UndefinedMetricWarning: Precision is ill-defined and being set to 0.0 in labels with no predicted samples. Use `zero_division` parameter to control this behavior.\n",
      "  _warn_prf(average, modifier, f\"{metric.capitalize()} is\", len(result))\n"
     ]
    },
    {
     "name": "stdout",
     "output_type": "stream",
     "text": [
      "Epoch [4/20], Loss: 3.09, Accuracy: 4.41%\n",
      "Validation Loss: 3.09, Validation Accuracy: 4.33%\n",
      "F1 Score: 0.00, Precision: 0.00, Recall: 0.04\n"
     ]
    },
    {
     "name": "stderr",
     "output_type": "stream",
     "text": [
      "c:\\Users\\Lenovo\\anaconda3\\envs\\pytorch-gpu\\lib\\site-packages\\sklearn\\metrics\\_classification.py:1565: UndefinedMetricWarning: Precision is ill-defined and being set to 0.0 in labels with no predicted samples. Use `zero_division` parameter to control this behavior.\n",
      "  _warn_prf(average, modifier, f\"{metric.capitalize()} is\", len(result))\n"
     ]
    },
    {
     "name": "stdout",
     "output_type": "stream",
     "text": [
      "Epoch [5/20], Loss: 3.09, Accuracy: 4.56%\n",
      "Validation Loss: 3.09, Validation Accuracy: 4.33%\n",
      "F1 Score: 0.00, Precision: 0.00, Recall: 0.04\n"
     ]
    },
    {
     "name": "stderr",
     "output_type": "stream",
     "text": [
      "c:\\Users\\Lenovo\\anaconda3\\envs\\pytorch-gpu\\lib\\site-packages\\sklearn\\metrics\\_classification.py:1565: UndefinedMetricWarning: Precision is ill-defined and being set to 0.0 in labels with no predicted samples. Use `zero_division` parameter to control this behavior.\n",
      "  _warn_prf(average, modifier, f\"{metric.capitalize()} is\", len(result))\n"
     ]
    },
    {
     "name": "stdout",
     "output_type": "stream",
     "text": [
      "Epoch [6/20], Loss: 3.09, Accuracy: 4.45%\n",
      "Validation Loss: 3.09, Validation Accuracy: 4.33%\n",
      "F1 Score: 0.00, Precision: 0.00, Recall: 0.04\n"
     ]
    },
    {
     "name": "stderr",
     "output_type": "stream",
     "text": [
      "c:\\Users\\Lenovo\\anaconda3\\envs\\pytorch-gpu\\lib\\site-packages\\sklearn\\metrics\\_classification.py:1565: UndefinedMetricWarning: Precision is ill-defined and being set to 0.0 in labels with no predicted samples. Use `zero_division` parameter to control this behavior.\n",
      "  _warn_prf(average, modifier, f\"{metric.capitalize()} is\", len(result))\n"
     ]
    },
    {
     "name": "stdout",
     "output_type": "stream",
     "text": [
      "Epoch [7/20], Loss: 3.09, Accuracy: 4.72%\n",
      "Validation Loss: 3.09, Validation Accuracy: 4.33%\n",
      "F1 Score: 0.00, Precision: 0.00, Recall: 0.04\n"
     ]
    },
    {
     "name": "stderr",
     "output_type": "stream",
     "text": [
      "c:\\Users\\Lenovo\\anaconda3\\envs\\pytorch-gpu\\lib\\site-packages\\sklearn\\metrics\\_classification.py:1565: UndefinedMetricWarning: Precision is ill-defined and being set to 0.0 in labels with no predicted samples. Use `zero_division` parameter to control this behavior.\n",
      "  _warn_prf(average, modifier, f\"{metric.capitalize()} is\", len(result))\n"
     ]
    },
    {
     "name": "stdout",
     "output_type": "stream",
     "text": [
      "Epoch [8/20], Loss: 3.09, Accuracy: 4.55%\n",
      "Validation Loss: 3.09, Validation Accuracy: 4.33%\n",
      "F1 Score: 0.00, Precision: 0.00, Recall: 0.04\n"
     ]
    },
    {
     "name": "stderr",
     "output_type": "stream",
     "text": [
      "c:\\Users\\Lenovo\\anaconda3\\envs\\pytorch-gpu\\lib\\site-packages\\sklearn\\metrics\\_classification.py:1565: UndefinedMetricWarning: Precision is ill-defined and being set to 0.0 in labels with no predicted samples. Use `zero_division` parameter to control this behavior.\n",
      "  _warn_prf(average, modifier, f\"{metric.capitalize()} is\", len(result))\n"
     ]
    },
    {
     "name": "stdout",
     "output_type": "stream",
     "text": [
      "Epoch [9/20], Loss: 3.09, Accuracy: 4.53%\n",
      "Validation Loss: 3.09, Validation Accuracy: 4.33%\n",
      "F1 Score: 0.00, Precision: 0.00, Recall: 0.04\n"
     ]
    },
    {
     "name": "stderr",
     "output_type": "stream",
     "text": [
      "c:\\Users\\Lenovo\\anaconda3\\envs\\pytorch-gpu\\lib\\site-packages\\sklearn\\metrics\\_classification.py:1565: UndefinedMetricWarning: Precision is ill-defined and being set to 0.0 in labels with no predicted samples. Use `zero_division` parameter to control this behavior.\n",
      "  _warn_prf(average, modifier, f\"{metric.capitalize()} is\", len(result))\n"
     ]
    },
    {
     "name": "stdout",
     "output_type": "stream",
     "text": [
      "Epoch [10/20], Loss: 3.09, Accuracy: 4.58%\n",
      "Validation Loss: 3.09, Validation Accuracy: 3.82%\n",
      "F1 Score: 0.00, Precision: 0.00, Recall: 0.04\n"
     ]
    },
    {
     "name": "stderr",
     "output_type": "stream",
     "text": [
      "c:\\Users\\Lenovo\\anaconda3\\envs\\pytorch-gpu\\lib\\site-packages\\sklearn\\metrics\\_classification.py:1565: UndefinedMetricWarning: Precision is ill-defined and being set to 0.0 in labels with no predicted samples. Use `zero_division` parameter to control this behavior.\n",
      "  _warn_prf(average, modifier, f\"{metric.capitalize()} is\", len(result))\n"
     ]
    },
    {
     "name": "stdout",
     "output_type": "stream",
     "text": [
      "Epoch [11/20], Loss: 3.09, Accuracy: 4.57%\n",
      "Validation Loss: 3.09, Validation Accuracy: 3.82%\n",
      "F1 Score: 0.00, Precision: 0.00, Recall: 0.04\n"
     ]
    },
    {
     "name": "stderr",
     "output_type": "stream",
     "text": [
      "c:\\Users\\Lenovo\\anaconda3\\envs\\pytorch-gpu\\lib\\site-packages\\sklearn\\metrics\\_classification.py:1565: UndefinedMetricWarning: Precision is ill-defined and being set to 0.0 in labels with no predicted samples. Use `zero_division` parameter to control this behavior.\n",
      "  _warn_prf(average, modifier, f\"{metric.capitalize()} is\", len(result))\n"
     ]
    },
    {
     "name": "stdout",
     "output_type": "stream",
     "text": [
      "Epoch [12/20], Loss: 3.09, Accuracy: 4.68%\n",
      "Validation Loss: 3.09, Validation Accuracy: 4.33%\n",
      "F1 Score: 0.00, Precision: 0.00, Recall: 0.04\n"
     ]
    },
    {
     "name": "stderr",
     "output_type": "stream",
     "text": [
      "c:\\Users\\Lenovo\\anaconda3\\envs\\pytorch-gpu\\lib\\site-packages\\sklearn\\metrics\\_classification.py:1565: UndefinedMetricWarning: Precision is ill-defined and being set to 0.0 in labels with no predicted samples. Use `zero_division` parameter to control this behavior.\n",
      "  _warn_prf(average, modifier, f\"{metric.capitalize()} is\", len(result))\n"
     ]
    },
    {
     "name": "stdout",
     "output_type": "stream",
     "text": [
      "Epoch [13/20], Loss: 3.09, Accuracy: 4.38%\n",
      "Validation Loss: 3.09, Validation Accuracy: 4.33%\n",
      "F1 Score: 0.00, Precision: 0.00, Recall: 0.04\n"
     ]
    },
    {
     "name": "stderr",
     "output_type": "stream",
     "text": [
      "c:\\Users\\Lenovo\\anaconda3\\envs\\pytorch-gpu\\lib\\site-packages\\sklearn\\metrics\\_classification.py:1565: UndefinedMetricWarning: Precision is ill-defined and being set to 0.0 in labels with no predicted samples. Use `zero_division` parameter to control this behavior.\n",
      "  _warn_prf(average, modifier, f\"{metric.capitalize()} is\", len(result))\n"
     ]
    },
    {
     "name": "stdout",
     "output_type": "stream",
     "text": [
      "Epoch [14/20], Loss: 3.09, Accuracy: 4.65%\n",
      "Validation Loss: 3.09, Validation Accuracy: 4.33%\n",
      "F1 Score: 0.00, Precision: 0.00, Recall: 0.04\n"
     ]
    },
    {
     "name": "stderr",
     "output_type": "stream",
     "text": [
      "c:\\Users\\Lenovo\\anaconda3\\envs\\pytorch-gpu\\lib\\site-packages\\sklearn\\metrics\\_classification.py:1565: UndefinedMetricWarning: Precision is ill-defined and being set to 0.0 in labels with no predicted samples. Use `zero_division` parameter to control this behavior.\n",
      "  _warn_prf(average, modifier, f\"{metric.capitalize()} is\", len(result))\n"
     ]
    },
    {
     "name": "stdout",
     "output_type": "stream",
     "text": [
      "Epoch [15/20], Loss: 3.09, Accuracy: 4.65%\n",
      "Validation Loss: 3.09, Validation Accuracy: 4.33%\n",
      "F1 Score: 0.00, Precision: 0.00, Recall: 0.04\n"
     ]
    },
    {
     "name": "stderr",
     "output_type": "stream",
     "text": [
      "c:\\Users\\Lenovo\\anaconda3\\envs\\pytorch-gpu\\lib\\site-packages\\sklearn\\metrics\\_classification.py:1565: UndefinedMetricWarning: Precision is ill-defined and being set to 0.0 in labels with no predicted samples. Use `zero_division` parameter to control this behavior.\n",
      "  _warn_prf(average, modifier, f\"{metric.capitalize()} is\", len(result))\n"
     ]
    },
    {
     "name": "stdout",
     "output_type": "stream",
     "text": [
      "Epoch [16/20], Loss: 3.09, Accuracy: 4.43%\n",
      "Validation Loss: 3.09, Validation Accuracy: 3.82%\n",
      "F1 Score: 0.00, Precision: 0.00, Recall: 0.04\n"
     ]
    },
    {
     "name": "stderr",
     "output_type": "stream",
     "text": [
      "c:\\Users\\Lenovo\\anaconda3\\envs\\pytorch-gpu\\lib\\site-packages\\sklearn\\metrics\\_classification.py:1565: UndefinedMetricWarning: Precision is ill-defined and being set to 0.0 in labels with no predicted samples. Use `zero_division` parameter to control this behavior.\n",
      "  _warn_prf(average, modifier, f\"{metric.capitalize()} is\", len(result))\n"
     ]
    },
    {
     "name": "stdout",
     "output_type": "stream",
     "text": [
      "Epoch [17/20], Loss: 3.09, Accuracy: 4.68%\n",
      "Validation Loss: 3.09, Validation Accuracy: 3.82%\n",
      "F1 Score: 0.00, Precision: 0.00, Recall: 0.04\n"
     ]
    },
    {
     "name": "stderr",
     "output_type": "stream",
     "text": [
      "c:\\Users\\Lenovo\\anaconda3\\envs\\pytorch-gpu\\lib\\site-packages\\sklearn\\metrics\\_classification.py:1565: UndefinedMetricWarning: Precision is ill-defined and being set to 0.0 in labels with no predicted samples. Use `zero_division` parameter to control this behavior.\n",
      "  _warn_prf(average, modifier, f\"{metric.capitalize()} is\", len(result))\n"
     ]
    },
    {
     "name": "stdout",
     "output_type": "stream",
     "text": [
      "Epoch [18/20], Loss: 3.06, Accuracy: 7.53%\n",
      "Validation Loss: 3.04, Validation Accuracy: 10.33%\n",
      "F1 Score: 0.03, Precision: 0.02, Recall: 0.10\n"
     ]
    },
    {
     "name": "stderr",
     "output_type": "stream",
     "text": [
      "c:\\Users\\Lenovo\\anaconda3\\envs\\pytorch-gpu\\lib\\site-packages\\sklearn\\metrics\\_classification.py:1565: UndefinedMetricWarning: Precision is ill-defined and being set to 0.0 in labels with no predicted samples. Use `zero_division` parameter to control this behavior.\n",
      "  _warn_prf(average, modifier, f\"{metric.capitalize()} is\", len(result))\n"
     ]
    },
    {
     "name": "stdout",
     "output_type": "stream",
     "text": [
      "Epoch [19/20], Loss: 3.00, Accuracy: 15.08%\n",
      "Validation Loss: 2.99, Validation Accuracy: 17.67%\n",
      "F1 Score: 0.08, Precision: 0.06, Recall: 0.18\n"
     ]
    },
    {
     "name": "stderr",
     "output_type": "stream",
     "text": [
      "c:\\Users\\Lenovo\\anaconda3\\envs\\pytorch-gpu\\lib\\site-packages\\sklearn\\metrics\\_classification.py:1565: UndefinedMetricWarning: Precision is ill-defined and being set to 0.0 in labels with no predicted samples. Use `zero_division` parameter to control this behavior.\n",
      "  _warn_prf(average, modifier, f\"{metric.capitalize()} is\", len(result))\n"
     ]
    },
    {
     "name": "stdout",
     "output_type": "stream",
     "text": [
      "Epoch [20/20], Loss: 2.95, Accuracy: 19.90%\n",
      "Validation Loss: 2.95, Validation Accuracy: 19.82%\n",
      "F1 Score: 0.10, Precision: 0.08, Recall: 0.20\n"
     ]
    },
    {
     "name": "stderr",
     "output_type": "stream",
     "text": [
      "c:\\Users\\Lenovo\\anaconda3\\envs\\pytorch-gpu\\lib\\site-packages\\sklearn\\metrics\\_classification.py:1565: UndefinedMetricWarning: Precision is ill-defined and being set to 0.0 in labels with no predicted samples. Use `zero_division` parameter to control this behavior.\n",
      "  _warn_prf(average, modifier, f\"{metric.capitalize()} is\", len(result))\n"
     ]
    },
    {
     "data": {
      "image/png": "[encoded data removed]",
      "text/plain": [
       "<Figure size 1200x500 with 2 Axes>"
      ]
     },
     "metadata": {},
     "output_type": "display_data"
    }
   ],
   "source": [
    "import torch\n",
    "import torch.nn as nn\n",
    "import torch.optim as optim\n",
    "import torch.nn.functional as F\n",
    "from sklearn.metrics import confusion_matrix, classification_report, f1_score, precision_score, recall_score\n",
    "import matplotlib.pyplot as plt\n",
    "import seaborn as sns\n",
    "\n",
    "# Define BiDirectionalGRU Model\n",
    "class BiDirectionalGRU(nn.Module):\n",
    "    def __init__(self, input_size, hidden_size, num_layers, output_size):\n",
    "        super(BiDirectionalGRU, self).__init__()\n",
    "        self.hidden_size = hidden_size\n",
    "        self.num_layers = num_layers\n",
    "\n",
    "        # Bi-directional GRU layer\n",
    "        self.gru = nn.GRU(input_size, hidden_size, num_layers,\n",
    "                          batch_first=True, bidirectional=True)\n",
    "\n",
    "        # Fully connected layer\n",
    "        self.fc = nn.Linear(hidden_size * 2, output_size)  # *2 for bidirectional output\n",
    "\n",
    "    def forward(self, x):\n",
    "        # Initialize hidden state\n",
    "        batch_size = x.size(0)\n",
    "        h0 = torch.zeros(self.num_layers * 2, batch_size, self.hidden_size).to(x.device)  # 2 for bidirectional\n",
    "\n",
    "        # Forward propagate GRU\n",
    "        out, _ = self.gru(x, h0)\n",
    "\n",
    "        # Decode the hidden state of the last time step\n",
    "        out = self.fc(out[:, -1, :])  # Use the last time step's output (for classification)\n",
    "\n",
    "        # Apply softmax to get probabilities for each class\n",
    "        out = F.softmax(out, dim=1)  # Normalize output to be a probability distribution\n",
    "\n",
    "        return out\n",
    "\n",
    "\n",
    "\n",
    "# Initialize Model, Loss, Optimizer\n",
    "input_dim = stacked_tensors_x.shape[2]  # Example: 768 (embedding size)\n",
    "hidden_dim = 256\n",
    "num_layers = 1\n",
    "num_classes = 22  # Number of categories\n",
    "modelGRU = BiDirectionalGRU(input_size=input_dim, hidden_size=hidden_dim, num_layers=num_layers, output_size=num_classes)\n",
    "\n",
    "\n",
    "criterion = nn.CrossEntropyLoss()\n",
    "optimizer = optim.Adam(modelGRU.parameters(), lr=1e-4)  # Example with GRU\n",
    "\n",
    "# Training Loop\n",
    "num_epochs = 20\n",
    "device = torch.device(\"cuda\" if torch.cuda.is_available() else \"cpu\")\n",
    "modelGRU = modelGRU.to(device)  # Example with GRU\n",
    "\n",
    "train_losses, val_losses = [], []\n",
    "train_accuracies, val_accuracies = [], []\n",
    "\n",
    "def plot_metrics(train_losses, val_losses, train_accuracies, val_accuracies):\n",
    "    epochs = range(1, len(train_losses) + 1)\n",
    "\n",
    "    plt.figure(figsize=(12, 5))\n",
    "\n",
    "    # Plot Loss\n",
    "    plt.subplot(1, 2, 1)\n",
    "    plt.plot(epochs, train_losses, 'bo-', label='Training Loss')\n",
    "    plt.plot(epochs, val_losses, 'ro-', label='Validation Loss')\n",
    "    plt.title('Training and Validation Loss')\n",
    "    plt.xlabel('Epochs')\n",
    "    plt.ylabel('Loss')\n",
    "    plt.legend()\n",
    "\n",
    "    # Plot Accuracy\n",
    "    plt.subplot(1, 2, 2)\n",
    "    plt.plot(epochs, train_accuracies, 'bo-', label='Training Accuracy')\n",
    "    plt.plot(epochs, val_accuracies, 'ro-', label='Validation Accuracy')\n",
    "    plt.title('Training and Validation Accuracy')\n",
    "    plt.xlabel('Epochs')\n",
    "    plt.ylabel('Accuracy (%)')\n",
    "    plt.legend()\n",
    "\n",
    "    plt.tight_layout()\n",
    "    plt.show()\n",
    "\n",
    "for epoch in range(num_epochs):\n",
    "    modelGRU.train()  # Example with GRU\n",
    "    train_loss = 0.0\n",
    "    correct_preds = 0\n",
    "    total_preds = 0\n",
    "\n",
    "    for embeddings, labels in train_loader:\n",
    "        embeddings, labels = embeddings.to(device), labels.to(device)\n",
    "        optimizer.zero_grad()\n",
    "        outputs = modelGRU(embeddings)  # Example with GRU\n",
    "        loss = criterion(outputs, labels)\n",
    "        loss.backward()\n",
    "        optimizer.step()\n",
    "\n",
    "        train_loss += loss.item() * embeddings.size(0)  # Sum the loss across all samples\n",
    "        _, predicted = torch.max(outputs, dim=1)\n",
    "        correct_preds += (predicted == labels).sum().item()\n",
    "        total_preds += labels.size(0)\n",
    "\n",
    "    train_loss_percentage = (train_loss / total_preds) \n",
    "    train_accuracy = 100 * correct_preds / total_preds\n",
    "    train_losses.append(train_loss_percentage)\n",
    "    train_accuracies.append(train_accuracy)\n",
    "    print(f\"Epoch [{epoch+1}/{num_epochs}], Loss: {train_loss_percentage:.2f}, Accuracy: {train_accuracy:.2f}%\")\n",
    "\n",
    "    # Validation\n",
    "    modelGRU.eval()  # Example with GRU\n",
    "    val_loss = 0.0\n",
    "    correct_preds = 0\n",
    "    total_preds = 0\n",
    "\n",
    "    all_labels = []\n",
    "    all_preds = []\n",
    "\n",
    "    with torch.no_grad():\n",
    "        for embeddings, labels in val_loader:\n",
    "            embeddings, labels = embeddings.to(device), labels.to(device)\n",
    "            outputs = modelGRU(embeddings)  # Example with GRU\n",
    "            loss = criterion(outputs, labels)\n",
    "            val_loss += loss.item() * embeddings.size(0)  # Sum the loss across all samples\n",
    "            _, predicted = torch.max(outputs, dim=1)\n",
    "            correct_preds += (predicted == labels).sum().item()\n",
    "            total_preds += labels.size(0)\n",
    "\n",
    "            all_labels.extend(labels.cpu().numpy())\n",
    "            all_preds.extend(predicted.cpu().numpy())\n",
    "\n",
    "    val_loss_percentage = (val_loss / total_preds) \n",
    "    val_accuracy = 100 * correct_preds / total_preds\n",
    "    val_losses.append(val_loss_percentage)\n",
    "    val_accuracies.append(val_accuracy)\n",
    "    print(f\"Validation Loss: {val_loss_percentage:.2f}, Validation Accuracy: {val_accuracy:.2f}%\")\n",
    "\n",
    "    # Metrics\n",
    "    f1 = f1_score(all_labels, all_preds, average='weighted')\n",
    "    precision = precision_score(all_labels, all_preds, average='weighted')\n",
    "    recall = recall_score(all_labels, all_preds, average='weighted')\n",
    "    print(f\"F1 Score: {f1:.2f}, Precision: {precision:.2f}, Recall: {recall:.2f}\")\n",
    "\n",
    "    # # Confusion Matrix\n",
    "    # cm = confusion_matrix(all_labels, all_preds)\n",
    "    # plt.figure(figsize=(10, 8))\n",
    "    # sns.heatmap(cm, annot=True, fmt='d', cmap='Blues', xticklabels=label_to_index.keys(), yticklabels=label_to_index.keys())\n",
    "    # plt.title('Confusion Matrix')\n",
    "    # plt.xlabel('Predicted Labels')\n",
    "    # plt.ylabel('True Labels')\n",
    "    # plt.show()\n",
    "\n",
    "plot_metrics(train_losses, val_losses, train_accuracies, val_accuracies)\n"
   ]
  },
  {
   "cell_type": "code",
   "execution_count": 27,
   "metadata": {},
   "outputs": [
    {
     "name": "stdout",
     "output_type": "stream",
     "text": [
      "Using device: cuda\n"
     ]
    },
    {
     "name": "stderr",
     "output_type": "stream",
     "text": [
      "Training Epoch 1/20: 100%|██████████| 482/482 [00:09<00:00, 51.98it/s]\n"
     ]
    },
    {
     "name": "stdout",
     "output_type": "stream",
     "text": [
      "Epoch [1/20], Loss: 3.09, Accuracy: 4.46%\n"
     ]
    },
    {
     "name": "stderr",
     "output_type": "stream",
     "text": [
      "c:\\Users\\Lenovo\\anaconda3\\envs\\pytorch-gpu\\lib\\site-packages\\sklearn\\metrics\\_classification.py:1565: UndefinedMetricWarning: Precision is ill-defined and being set to 0.0 in labels with no predicted samples. Use `zero_division` parameter to control this behavior.\n",
      "  _warn_prf(average, modifier, f\"{metric.capitalize()} is\", len(result))\n"
     ]
    },
    {
     "name": "stdout",
     "output_type": "stream",
     "text": [
      "Validation Loss: 3.09, Validation Accuracy: 3.82%\n",
      "F1 Score: 0.00, Precision: 0.00, Recall: 0.04\n"
     ]
    },
    {
     "name": "stderr",
     "output_type": "stream",
     "text": [
      "Training Epoch 2/20: 100%|██████████| 482/482 [00:10<00:00, 44.56it/s]\n"
     ]
    },
    {
     "name": "stdout",
     "output_type": "stream",
     "text": [
      "Epoch [2/20], Loss: 3.09, Accuracy: 4.40%\n"
     ]
    },
    {
     "name": "stderr",
     "output_type": "stream",
     "text": [
      "c:\\Users\\Lenovo\\anaconda3\\envs\\pytorch-gpu\\lib\\site-packages\\sklearn\\metrics\\_classification.py:1565: UndefinedMetricWarning: Precision is ill-defined and being set to 0.0 in labels with no predicted samples. Use `zero_division` parameter to control this behavior.\n",
      "  _warn_prf(average, modifier, f\"{metric.capitalize()} is\", len(result))\n"
     ]
    },
    {
     "name": "stdout",
     "output_type": "stream",
     "text": [
      "Validation Loss: 3.09, Validation Accuracy: 3.82%\n",
      "F1 Score: 0.00, Precision: 0.00, Recall: 0.04\n"
     ]
    },
    {
     "name": "stderr",
     "output_type": "stream",
     "text": [
      "Training Epoch 3/20: 100%|██████████| 482/482 [00:08<00:00, 54.89it/s]\n"
     ]
    },
    {
     "name": "stdout",
     "output_type": "stream",
     "text": [
      "Epoch [3/20], Loss: 3.09, Accuracy: 4.53%\n"
     ]
    },
    {
     "name": "stderr",
     "output_type": "stream",
     "text": [
      "c:\\Users\\Lenovo\\anaconda3\\envs\\pytorch-gpu\\lib\\site-packages\\sklearn\\metrics\\_classification.py:1565: UndefinedMetricWarning: Precision is ill-defined and being set to 0.0 in labels with no predicted samples. Use `zero_division` parameter to control this behavior.\n",
      "  _warn_prf(average, modifier, f\"{metric.capitalize()} is\", len(result))\n"
     ]
    },
    {
     "name": "stdout",
     "output_type": "stream",
     "text": [
      "Validation Loss: 3.09, Validation Accuracy: 3.82%\n",
      "F1 Score: 0.00, Precision: 0.00, Recall: 0.04\n"
     ]
    },
    {
     "name": "stderr",
     "output_type": "stream",
     "text": [
      "Training Epoch 4/20: 100%|██████████| 482/482 [00:08<00:00, 58.39it/s]\n"
     ]
    },
    {
     "name": "stdout",
     "output_type": "stream",
     "text": [
      "Epoch [4/20], Loss: 3.09, Accuracy: 4.37%\n"
     ]
    },
    {
     "name": "stderr",
     "output_type": "stream",
     "text": [
      "c:\\Users\\Lenovo\\anaconda3\\envs\\pytorch-gpu\\lib\\site-packages\\sklearn\\metrics\\_classification.py:1565: UndefinedMetricWarning: Precision is ill-defined and being set to 0.0 in labels with no predicted samples. Use `zero_division` parameter to control this behavior.\n",
      "  _warn_prf(average, modifier, f\"{metric.capitalize()} is\", len(result))\n"
     ]
    },
    {
     "name": "stdout",
     "output_type": "stream",
     "text": [
      "Validation Loss: 3.09, Validation Accuracy: 3.82%\n",
      "F1 Score: 0.00, Precision: 0.00, Recall: 0.04\n"
     ]
    },
    {
     "name": "stderr",
     "output_type": "stream",
     "text": [
      "Training Epoch 5/20: 100%|██████████| 482/482 [00:08<00:00, 56.29it/s]\n"
     ]
    },
    {
     "name": "stdout",
     "output_type": "stream",
     "text": [
      "Epoch [5/20], Loss: 3.09, Accuracy: 4.69%\n"
     ]
    },
    {
     "name": "stderr",
     "output_type": "stream",
     "text": [
      "c:\\Users\\Lenovo\\anaconda3\\envs\\pytorch-gpu\\lib\\site-packages\\sklearn\\metrics\\_classification.py:1565: UndefinedMetricWarning: Precision is ill-defined and being set to 0.0 in labels with no predicted samples. Use `zero_division` parameter to control this behavior.\n",
      "  _warn_prf(average, modifier, f\"{metric.capitalize()} is\", len(result))\n"
     ]
    },
    {
     "name": "stdout",
     "output_type": "stream",
     "text": [
      "Validation Loss: 3.09, Validation Accuracy: 4.33%\n",
      "F1 Score: 0.00, Precision: 0.00, Recall: 0.04\n"
     ]
    },
    {
     "name": "stderr",
     "output_type": "stream",
     "text": [
      "Training Epoch 6/20: 100%|██████████| 482/482 [00:08<00:00, 54.97it/s]\n"
     ]
    },
    {
     "name": "stdout",
     "output_type": "stream",
     "text": [
      "Epoch [6/20], Loss: 2.75, Accuracy: 10.54%\n"
     ]
    },
    {
     "name": "stderr",
     "output_type": "stream",
     "text": [
      "c:\\Users\\Lenovo\\anaconda3\\envs\\pytorch-gpu\\lib\\site-packages\\sklearn\\metrics\\_classification.py:1565: UndefinedMetricWarning: Precision is ill-defined and being set to 0.0 in labels with no predicted samples. Use `zero_division` parameter to control this behavior.\n",
      "  _warn_prf(average, modifier, f\"{metric.capitalize()} is\", len(result))\n"
     ]
    },
    {
     "name": "stdout",
     "output_type": "stream",
     "text": [
      "Validation Loss: 2.57, Validation Accuracy: 15.82%\n",
      "F1 Score: 0.11, Precision: 0.15, Recall: 0.16\n"
     ]
    },
    {
     "name": "stderr",
     "output_type": "stream",
     "text": [
      "Training Epoch 7/20: 100%|██████████| 482/482 [00:08<00:00, 57.21it/s]\n"
     ]
    },
    {
     "name": "stdout",
     "output_type": "stream",
     "text": [
      "Epoch [7/20], Loss: 2.44, Accuracy: 21.64%\n"
     ]
    },
    {
     "name": "stderr",
     "output_type": "stream",
     "text": [
      "c:\\Users\\Lenovo\\anaconda3\\envs\\pytorch-gpu\\lib\\site-packages\\sklearn\\metrics\\_classification.py:1565: UndefinedMetricWarning: Precision is ill-defined and being set to 0.0 in labels with no predicted samples. Use `zero_division` parameter to control this behavior.\n",
      "  _warn_prf(average, modifier, f\"{metric.capitalize()} is\", len(result))\n"
     ]
    },
    {
     "name": "stdout",
     "output_type": "stream",
     "text": [
      "Validation Loss: 2.34, Validation Accuracy: 24.97%\n",
      "F1 Score: 0.20, Precision: 0.20, Recall: 0.25\n"
     ]
    },
    {
     "name": "stderr",
     "output_type": "stream",
     "text": [
      "Training Epoch 8/20: 100%|██████████| 482/482 [00:08<00:00, 57.08it/s]\n"
     ]
    },
    {
     "name": "stdout",
     "output_type": "stream",
     "text": [
      "Epoch [8/20], Loss: 2.16, Accuracy: 30.62%\n"
     ]
    },
    {
     "name": "stderr",
     "output_type": "stream",
     "text": [
      "c:\\Users\\Lenovo\\anaconda3\\envs\\pytorch-gpu\\lib\\site-packages\\sklearn\\metrics\\_classification.py:1565: UndefinedMetricWarning: Precision is ill-defined and being set to 0.0 in labels with no predicted samples. Use `zero_division` parameter to control this behavior.\n",
      "  _warn_prf(average, modifier, f\"{metric.capitalize()} is\", len(result))\n"
     ]
    },
    {
     "name": "stdout",
     "output_type": "stream",
     "text": [
      "Validation Loss: 2.06, Validation Accuracy: 33.76%\n",
      "F1 Score: 0.28, Precision: 0.30, Recall: 0.34\n"
     ]
    },
    {
     "name": "stderr",
     "output_type": "stream",
     "text": [
      "Training Epoch 9/20: 100%|██████████| 482/482 [00:08<00:00, 56.39it/s]\n"
     ]
    },
    {
     "name": "stdout",
     "output_type": "stream",
     "text": [
      "Epoch [9/20], Loss: 1.93, Accuracy: 37.65%\n"
     ]
    },
    {
     "name": "stderr",
     "output_type": "stream",
     "text": [
      "c:\\Users\\Lenovo\\anaconda3\\envs\\pytorch-gpu\\lib\\site-packages\\sklearn\\metrics\\_classification.py:1565: UndefinedMetricWarning: Precision is ill-defined and being set to 0.0 in labels with no predicted samples. Use `zero_division` parameter to control this behavior.\n",
      "  _warn_prf(average, modifier, f\"{metric.capitalize()} is\", len(result))\n"
     ]
    },
    {
     "name": "stdout",
     "output_type": "stream",
     "text": [
      "Validation Loss: 1.89, Validation Accuracy: 39.73%\n",
      "F1 Score: 0.36, Precision: 0.36, Recall: 0.40\n"
     ]
    },
    {
     "name": "stderr",
     "output_type": "stream",
     "text": [
      "Training Epoch 10/20: 100%|██████████| 482/482 [00:08<00:00, 54.33it/s]\n"
     ]
    },
    {
     "name": "stdout",
     "output_type": "stream",
     "text": [
      "Epoch [10/20], Loss: 1.75, Accuracy: 44.36%\n"
     ]
    },
    {
     "name": "stderr",
     "output_type": "stream",
     "text": [
      "c:\\Users\\Lenovo\\anaconda3\\envs\\pytorch-gpu\\lib\\site-packages\\sklearn\\metrics\\_classification.py:1565: UndefinedMetricWarning: Precision is ill-defined and being set to 0.0 in labels with no predicted samples. Use `zero_division` parameter to control this behavior.\n",
      "  _warn_prf(average, modifier, f\"{metric.capitalize()} is\", len(result))\n"
     ]
    },
    {
     "name": "stdout",
     "output_type": "stream",
     "text": [
      "Validation Loss: 1.73, Validation Accuracy: 46.24%\n",
      "F1 Score: 0.43, Precision: 0.43, Recall: 0.46\n"
     ]
    },
    {
     "name": "stderr",
     "output_type": "stream",
     "text": [
      "Training Epoch 11/20: 100%|██████████| 482/482 [00:09<00:00, 52.35it/s]\n"
     ]
    },
    {
     "name": "stdout",
     "output_type": "stream",
     "text": [
      "Epoch [11/20], Loss: 1.55, Accuracy: 51.08%\n",
      "Validation Loss: 1.58, Validation Accuracy: 50.88%\n",
      "F1 Score: 0.49, Precision: 0.50, Recall: 0.51\n"
     ]
    },
    {
     "name": "stderr",
     "output_type": "stream",
     "text": [
      "Training Epoch 12/20: 100%|██████████| 482/482 [00:09<00:00, 49.39it/s]\n"
     ]
    },
    {
     "name": "stdout",
     "output_type": "stream",
     "text": [
      "Epoch [12/20], Loss: 1.39, Accuracy: 57.00%\n",
      "Validation Loss: 1.45, Validation Accuracy: 56.48%\n",
      "F1 Score: 0.56, Precision: 0.56, Recall: 0.56\n"
     ]
    },
    {
     "name": "stderr",
     "output_type": "stream",
     "text": [
      "Training Epoch 13/20: 100%|██████████| 482/482 [00:08<00:00, 58.25it/s]\n"
     ]
    },
    {
     "name": "stdout",
     "output_type": "stream",
     "text": [
      "Epoch [13/20], Loss: 1.24, Accuracy: 62.24%\n",
      "Validation Loss: 1.35, Validation Accuracy: 59.36%\n",
      "F1 Score: 0.59, Precision: 0.59, Recall: 0.59\n"
     ]
    },
    {
     "name": "stderr",
     "output_type": "stream",
     "text": [
      "Training Epoch 14/20: 100%|██████████| 482/482 [00:08<00:00, 59.39it/s]\n"
     ]
    },
    {
     "name": "stdout",
     "output_type": "stream",
     "text": [
      "Epoch [14/20], Loss: 1.12, Accuracy: 65.84%\n",
      "Validation Loss: 1.29, Validation Accuracy: 62.52%\n",
      "F1 Score: 0.62, Precision: 0.63, Recall: 0.63\n"
     ]
    },
    {
     "name": "stderr",
     "output_type": "stream",
     "text": [
      "Training Epoch 15/20: 100%|██████████| 482/482 [00:08<00:00, 55.49it/s]\n"
     ]
    },
    {
     "name": "stdout",
     "output_type": "stream",
     "text": [
      "Epoch [15/20], Loss: 1.03, Accuracy: 69.13%\n",
      "Validation Loss: 1.26, Validation Accuracy: 62.79%\n",
      "F1 Score: 0.62, Precision: 0.63, Recall: 0.63\n"
     ]
    },
    {
     "name": "stderr",
     "output_type": "stream",
     "text": [
      "Training Epoch 16/20: 100%|██████████| 482/482 [00:09<00:00, 49.79it/s]\n"
     ]
    },
    {
     "name": "stdout",
     "output_type": "stream",
     "text": [
      "Epoch [16/20], Loss: 0.95, Accuracy: 71.82%\n",
      "Validation Loss: 1.20, Validation Accuracy: 65.18%\n",
      "F1 Score: 0.65, Precision: 0.65, Recall: 0.65\n"
     ]
    },
    {
     "name": "stderr",
     "output_type": "stream",
     "text": [
      "Training Epoch 17/20: 100%|██████████| 482/482 [00:09<00:00, 53.19it/s]\n"
     ]
    },
    {
     "name": "stdout",
     "output_type": "stream",
     "text": [
      "Epoch [17/20], Loss: 0.88, Accuracy: 74.10%\n",
      "Validation Loss: 1.17, Validation Accuracy: 66.64%\n",
      "F1 Score: 0.66, Precision: 0.67, Recall: 0.67\n"
     ]
    },
    {
     "name": "stderr",
     "output_type": "stream",
     "text": [
      "Training Epoch 18/20: 100%|██████████| 482/482 [00:08<00:00, 56.26it/s]\n"
     ]
    },
    {
     "name": "stdout",
     "output_type": "stream",
     "text": [
      "Epoch [18/20], Loss: 0.81, Accuracy: 76.55%\n",
      "Validation Loss: 1.18, Validation Accuracy: 66.64%\n",
      "F1 Score: 0.67, Precision: 0.67, Recall: 0.67\n"
     ]
    },
    {
     "name": "stderr",
     "output_type": "stream",
     "text": [
      "Training Epoch 19/20: 100%|██████████| 482/482 [00:09<00:00, 52.97it/s]\n"
     ]
    },
    {
     "name": "stdout",
     "output_type": "stream",
     "text": [
      "Epoch [19/20], Loss: 0.76, Accuracy: 77.79%\n",
      "Validation Loss: 1.19, Validation Accuracy: 66.73%\n",
      "F1 Score: 0.66, Precision: 0.67, Recall: 0.67\n"
     ]
    },
    {
     "name": "stderr",
     "output_type": "stream",
     "text": [
      "Training Epoch 20/20: 100%|██████████| 482/482 [00:09<00:00, 51.41it/s]\n"
     ]
    },
    {
     "name": "stdout",
     "output_type": "stream",
     "text": [
      "Epoch [20/20], Loss: 0.70, Accuracy: 79.52%\n",
      "Validation Loss: 1.16, Validation Accuracy: 67.58%\n",
      "F1 Score: 0.68, Precision: 0.68, Recall: 0.68\n"
     ]
    },
    {
     "data": {
      "image/png": "[encoded data removed]",
      "text/plain": [
       "<Figure size 1200x500 with 2 Axes>"
      ]
     },
     "metadata": {},
     "output_type": "display_data"
    }
   ],
   "source": [
    "import torch\n",
    "import torch.nn as nn\n",
    "import torch.optim as optim\n",
    "import torch.nn.functional as F\n",
    "import matplotlib.pyplot as plt\n",
    "from sklearn.metrics import f1_score, precision_score, recall_score\n",
    "from tqdm import tqdm\n",
    "\n",
    "# **✅ Define BiDirectional GRU Model**\n",
    "class BiDirectionalGRU(nn.Module):\n",
    "    def __init__(self, input_size, hidden_size, num_layers, output_size):\n",
    "        super(BiDirectionalGRU, self).__init__()\n",
    "        self.hidden_size = hidden_size\n",
    "        self.num_layers = num_layers\n",
    "\n",
    "        # Bi-directional GRU layer\n",
    "        self.gru = nn.GRU(input_size, hidden_size, num_layers,\n",
    "                          batch_first=True, bidirectional=True)\n",
    "\n",
    "        # Fully connected layer\n",
    "        self.fc = nn.Linear(hidden_size * 2, output_size)  # *2 for bidirectional output\n",
    "\n",
    "    def forward(self, x):\n",
    "        batch_size = x.size(0)\n",
    "\n",
    "        # Initialize hidden state (GRU does not use cell state like LSTM)\n",
    "        h0 = torch.zeros(self.num_layers * 2, batch_size, self.hidden_size).to(x.device)  # 2 for bidirectional\n",
    "\n",
    "        # Forward propagate GRU\n",
    "        out, _ = self.gru(x, h0)\n",
    "\n",
    "        # Decode the hidden state of the last time step\n",
    "        out = self.fc(out[:, -1, :])  # Use last time step's output\n",
    "\n",
    "        return out  # **No Softmax Here** (Handled in Training Loop)\n",
    "\n",
    "# **✅ Initialize Model, Loss, Optimizer**\n",
    "device = torch.device(\"cuda\" if torch.cuda.is_available() else \"cpu\")\n",
    "print(f\"Using device: {device}\")\n",
    "\n",
    "input_dim = stacked_tensors_x.shape[2]  # Example: 768 (embedding size)\n",
    "hidden_dim = 256\n",
    "num_layers = 1\n",
    "num_classes = 22  # Number of categories\n",
    "\n",
    "modelGRU = BiDirectionalGRU(input_size=input_dim, hidden_size=hidden_dim, num_layers=num_layers, output_size=num_classes).to(device)\n",
    "\n",
    "criterion = nn.CrossEntropyLoss()\n",
    "optimizer = optim.Adam(modelGRU.parameters(), lr=1e-4)\n",
    "\n",
    "# **✅ Training Setup**\n",
    "num_epochs = 20\n",
    "train_losses, val_losses = [], []\n",
    "train_accuracies, val_accuracies = [], []\n",
    "\n",
    "# **✅ Function to Plot Training & Validation Metrics**\n",
    "def plot_metrics(train_losses, val_losses, train_accuracies, val_accuracies):\n",
    "    epochs = range(1, len(train_losses) + 1)\n",
    "\n",
    "    plt.figure(figsize=(12, 5))\n",
    "\n",
    "    # Plot Loss\n",
    "    plt.subplot(1, 2, 1)\n",
    "    plt.plot(epochs, train_losses, 'bo-', label='Training Loss')\n",
    "    plt.plot(epochs, val_losses, 'ro-', label='Validation Loss')\n",
    "    plt.title('Training and Validation Loss')\n",
    "    plt.xlabel('Epochs')\n",
    "    plt.ylabel('Loss')\n",
    "    plt.legend()\n",
    "\n",
    "    # Plot Accuracy\n",
    "    plt.subplot(1, 2, 2)\n",
    "    plt.plot(epochs, train_accuracies, 'bo-', label='Training Accuracy')\n",
    "    plt.plot(epochs, val_accuracies, 'ro-', label='Validation Accuracy')\n",
    "    plt.title('Training and Validation Accuracy')\n",
    "    plt.xlabel('Epochs')\n",
    "    plt.ylabel('Accuracy (%)')\n",
    "    plt.legend()\n",
    "\n",
    "    plt.tight_layout()\n",
    "    plt.show()\n",
    "\n",
    "# **✅ Training Loop**\n",
    "for epoch in range(num_epochs):\n",
    "    modelGRU.train()\n",
    "    train_loss = 0.0\n",
    "    correct_preds = 0\n",
    "    total_preds = 0\n",
    "\n",
    "    for embeddings, labels in tqdm(train_loader, desc=f\"Training Epoch {epoch+1}/{num_epochs}\"):\n",
    "        embeddings, labels = embeddings.to(device), labels.to(device)\n",
    "\n",
    "        optimizer.zero_grad()\n",
    "        outputs = modelGRU(embeddings)  # **GRU Model**\n",
    "        loss = criterion(outputs, labels)\n",
    "        loss.backward()\n",
    "        optimizer.step()\n",
    "\n",
    "        train_loss += loss.item() * embeddings.size(0)\n",
    "        _, predicted = torch.max(outputs, dim=1)\n",
    "        correct_preds += (predicted == labels).sum().item()\n",
    "        total_preds += labels.size(0)\n",
    "\n",
    "    train_loss_percentage = (train_loss / total_preds)\n",
    "    train_accuracy = 100 * correct_preds / total_preds\n",
    "    train_losses.append(train_loss_percentage)\n",
    "    train_accuracies.append(train_accuracy)\n",
    "\n",
    "    print(f\"Epoch [{epoch+1}/{num_epochs}], Loss: {train_loss_percentage:.2f}, Accuracy: {train_accuracy:.2f}%\")\n",
    "\n",
    "    # **✅ Validation**\n",
    "    modelGRU.eval()\n",
    "    val_loss = 0.0\n",
    "    correct_preds = 0\n",
    "    total_preds = 0\n",
    "\n",
    "    all_labels = []\n",
    "    all_preds = []\n",
    "\n",
    "    with torch.no_grad():\n",
    "        for embeddings, labels in val_loader:\n",
    "            embeddings, labels = embeddings.to(device), labels.to(device)\n",
    "            outputs = modelGRU(embeddings)\n",
    "            loss = criterion(outputs, labels)\n",
    "            val_loss += loss.item() * embeddings.size(0)\n",
    "            _, predicted = torch.max(outputs, dim=1)\n",
    "            correct_preds += (predicted == labels).sum().item()\n",
    "            total_preds += labels.size(0)\n",
    "\n",
    "            all_labels.extend(labels.cpu().numpy())\n",
    "            all_preds.extend(predicted.cpu().numpy())\n",
    "\n",
    "    val_loss_percentage = (val_loss / total_preds)\n",
    "    val_accuracy = 100 * correct_preds / total_preds\n",
    "    val_losses.append(val_loss_percentage)\n",
    "    val_accuracies.append(val_accuracy)\n",
    "    print(f\"Validation Loss: {val_loss_percentage:.2f}, Validation Accuracy: {val_accuracy:.2f}%\")\n",
    "\n",
    "    # **✅ Compute Metrics**\n",
    "    f1 = f1_score(all_labels, all_preds, average='weighted')\n",
    "    precision = precision_score(all_labels, all_preds, average='weighted')\n",
    "    recall = recall_score(all_labels, all_preds, average='weighted')\n",
    "    print(f\"F1 Score: {f1:.2f}, Precision: {precision:.2f}, Recall: {recall:.2f}\")\n",
    "\n",
    "# **✅ Plot Results**\n",
    "plot_metrics(train_losses, val_losses, train_accuracies, val_accuracies)\n"
   ]
  },
  {
   "cell_type": "code",
   "execution_count": 31,
   "metadata": {},
   "outputs": [],
   "source": [
    "categories = list(label_to_index.keys())"
   ]
  },
  {
   "cell_type": "code",
   "execution_count": 32,
   "metadata": {},
   "outputs": [
    {
     "name": "stdout",
     "output_type": "stream",
     "text": [
      "<class 'transformers.models.bert.modeling_bert.BertModel'>\n"
     ]
    }
   ],
   "source": [
    "print(type(embedding_model))\n"
   ]
  },
  {
   "cell_type": "code",
   "execution_count": 33,
   "metadata": {},
   "outputs": [
    {
     "name": "stdout",
     "output_type": "stream",
     "text": [
      "['U.S. NEWS', 'COMEDY', 'PARENTING', 'WORLD NEWS', 'CULTURE & ARTS', 'TECH', 'SPORTS', 'ENTERTAINMENT', 'POLITICS', 'WEIRD NEWS', 'ENVIRONMENT', 'EDUCATION', 'CRIME', 'SCIENCE', 'WELLNESS', 'BUSINESS', 'STYLE & BEAUTY', 'FOOD & DRINK', 'MEDIA', 'QUEER VOICES', 'HOME & LIVING', 'WOMEN']\n"
     ]
    }
   ],
   "source": [
    "# Extract categories from label_to_index dictionary\n",
    "categories = list(label_to_index.keys())\n",
    "\n",
    "# Example: Print categories\n",
    "print(categories)\n"
   ]
  },
  {
   "cell_type": "code",
   "execution_count": null,
   "metadata": {},
   "outputs": [],
   "source": []
  }
 ],
 "metadata": {
  "colab": {
   "provenance": []
  },
  "kernelspec": {
   "display_name": "pytorch-gpu",
   "language": "python",
   "name": "python3"
  },
  "language_info": {
   "codemirror_mode": {
    "name": "ipython",
    "version": 3
   },
   "file_extension": ".py",
   "mimetype": "text/x-python",
   "name": "python",
   "nbconvert_exporter": "python",
   "pygments_lexer": "ipython3",
   "version": "3.10.16"
  }
 },
 "nbformat": 4,
 "nbformat_minor": 0
}
